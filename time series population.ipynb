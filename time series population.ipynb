{
 "cells": [
  {
   "cell_type": "code",
   "execution_count": 1,
   "id": "13e0db30-56ef-47b9-a8c4-1fa2fea8157e",
   "metadata": {},
   "outputs": [],
   "source": [
    "import pandas as pd\n",
    "df = pd.read_csv(\"POP.csv\")"
   ]
  },
  {
   "cell_type": "code",
   "execution_count": 2,
   "id": "757ccc78-092e-4d92-a165-eba343491e16",
   "metadata": {},
   "outputs": [
    {
     "data": {
      "text/html": [
       "<div>\n",
       "<style scoped>\n",
       "    .dataframe tbody tr th:only-of-type {\n",
       "        vertical-align: middle;\n",
       "    }\n",
       "\n",
       "    .dataframe tbody tr th {\n",
       "        vertical-align: top;\n",
       "    }\n",
       "\n",
       "    .dataframe thead th {\n",
       "        text-align: right;\n",
       "    }\n",
       "</style>\n",
       "<table border=\"1\" class=\"dataframe\">\n",
       "  <thead>\n",
       "    <tr style=\"text-align: right;\">\n",
       "      <th></th>\n",
       "      <th>realtime_start</th>\n",
       "      <th>value</th>\n",
       "      <th>date</th>\n",
       "      <th>realtime_end</th>\n",
       "    </tr>\n",
       "  </thead>\n",
       "  <tbody>\n",
       "    <tr>\n",
       "      <th>0</th>\n",
       "      <td>2019-12-06</td>\n",
       "      <td>156309.000</td>\n",
       "      <td>1952-01-01</td>\n",
       "      <td>2019-12-06</td>\n",
       "    </tr>\n",
       "    <tr>\n",
       "      <th>1</th>\n",
       "      <td>2019-12-06</td>\n",
       "      <td>156527.000</td>\n",
       "      <td>1952-02-01</td>\n",
       "      <td>2019-12-06</td>\n",
       "    </tr>\n",
       "    <tr>\n",
       "      <th>2</th>\n",
       "      <td>2019-12-06</td>\n",
       "      <td>156731.000</td>\n",
       "      <td>1952-03-01</td>\n",
       "      <td>2019-12-06</td>\n",
       "    </tr>\n",
       "    <tr>\n",
       "      <th>3</th>\n",
       "      <td>2019-12-06</td>\n",
       "      <td>156943.000</td>\n",
       "      <td>1952-04-01</td>\n",
       "      <td>2019-12-06</td>\n",
       "    </tr>\n",
       "    <tr>\n",
       "      <th>4</th>\n",
       "      <td>2019-12-06</td>\n",
       "      <td>157140.000</td>\n",
       "      <td>1952-05-01</td>\n",
       "      <td>2019-12-06</td>\n",
       "    </tr>\n",
       "    <tr>\n",
       "      <th>...</th>\n",
       "      <td>...</td>\n",
       "      <td>...</td>\n",
       "      <td>...</td>\n",
       "      <td>...</td>\n",
       "    </tr>\n",
       "    <tr>\n",
       "      <th>811</th>\n",
       "      <td>2019-12-06</td>\n",
       "      <td>329591.333</td>\n",
       "      <td>2019-08-01</td>\n",
       "      <td>2019-12-06</td>\n",
       "    </tr>\n",
       "    <tr>\n",
       "      <th>812</th>\n",
       "      <td>2019-12-06</td>\n",
       "      <td>329785.872</td>\n",
       "      <td>2019-09-01</td>\n",
       "      <td>2019-12-06</td>\n",
       "    </tr>\n",
       "    <tr>\n",
       "      <th>813</th>\n",
       "      <td>2019-12-06</td>\n",
       "      <td>329982.035</td>\n",
       "      <td>2019-10-01</td>\n",
       "      <td>2019-12-06</td>\n",
       "    </tr>\n",
       "    <tr>\n",
       "      <th>814</th>\n",
       "      <td>2019-12-06</td>\n",
       "      <td>330154.949</td>\n",
       "      <td>2019-11-01</td>\n",
       "      <td>2019-12-06</td>\n",
       "    </tr>\n",
       "    <tr>\n",
       "      <th>815</th>\n",
       "      <td>2019-12-06</td>\n",
       "      <td>330309.946</td>\n",
       "      <td>2019-12-01</td>\n",
       "      <td>2019-12-06</td>\n",
       "    </tr>\n",
       "  </tbody>\n",
       "</table>\n",
       "<p>816 rows × 4 columns</p>\n",
       "</div>"
      ],
      "text/plain": [
       "    realtime_start       value        date realtime_end\n",
       "0       2019-12-06  156309.000  1952-01-01   2019-12-06\n",
       "1       2019-12-06  156527.000  1952-02-01   2019-12-06\n",
       "2       2019-12-06  156731.000  1952-03-01   2019-12-06\n",
       "3       2019-12-06  156943.000  1952-04-01   2019-12-06\n",
       "4       2019-12-06  157140.000  1952-05-01   2019-12-06\n",
       "..             ...         ...         ...          ...\n",
       "811     2019-12-06  329591.333  2019-08-01   2019-12-06\n",
       "812     2019-12-06  329785.872  2019-09-01   2019-12-06\n",
       "813     2019-12-06  329982.035  2019-10-01   2019-12-06\n",
       "814     2019-12-06  330154.949  2019-11-01   2019-12-06\n",
       "815     2019-12-06  330309.946  2019-12-01   2019-12-06\n",
       "\n",
       "[816 rows x 4 columns]"
      ]
     },
     "execution_count": 2,
     "metadata": {},
     "output_type": "execute_result"
    }
   ],
   "source": [
    "df"
   ]
  },
  {
   "cell_type": "code",
   "execution_count": 3,
   "id": "5fa42261-06dc-4c74-b80e-0e55f6f0896d",
   "metadata": {},
   "outputs": [],
   "source": [
    "df['date'] = pd.to_datetime(df['date'])"
   ]
  },
  {
   "cell_type": "code",
   "execution_count": 4,
   "id": "29444c5e-7562-412e-a6e7-ac1809a15417",
   "metadata": {},
   "outputs": [],
   "source": [
    "df = df.sort_values('date').reset_index(drop=True)\n"
   ]
  },
  {
   "cell_type": "code",
   "execution_count": 5,
   "id": "d6282262-016c-4320-867d-e17924b3cc4f",
   "metadata": {},
   "outputs": [],
   "source": [
    "df.set_index('date', inplace=True)"
   ]
  },
  {
   "cell_type": "code",
   "execution_count": 6,
   "id": "593c4d50-b67f-446f-8366-5e36ca40b829",
   "metadata": {},
   "outputs": [
    {
     "name": "stdout",
     "output_type": "stream",
     "text": [
      "Jumlah missing value tiap kolom:\n",
      " realtime_start    0\n",
      "value             0\n",
      "realtime_end      0\n",
      "dtype: int64\n"
     ]
    }
   ],
   "source": [
    "print(\"Jumlah missing value tiap kolom:\\n\", df.isnull().sum())"
   ]
  },
  {
   "cell_type": "code",
   "execution_count": 7,
   "id": "690c2a9c-a313-4c09-a04a-c8b30a2b7f52",
   "metadata": {},
   "outputs": [
    {
     "name": "stdout",
     "output_type": "stream",
     "text": [
      "Jumlah baris duplikat: 0\n"
     ]
    }
   ],
   "source": [
    "duplicates = df.duplicated()\n",
    "print(f\"Jumlah baris duplikat: {duplicates.sum()}\")"
   ]
  },
  {
   "cell_type": "code",
   "execution_count": 8,
   "id": "e5d79856-ac7f-410b-bd3b-5ab72da7f191",
   "metadata": {},
   "outputs": [],
   "source": [
    "import numpy as np"
   ]
  },
  {
   "cell_type": "code",
   "execution_count": 9,
   "id": "ccfc921b-aafc-4d8b-8d56-1b7fac5e7adc",
   "metadata": {},
   "outputs": [],
   "source": [
    "threshold = 3\n",
    "mean_val = df['value'].mean()\n",
    "std_val = df['value'].std()\n",
    "df['z_score'] = (df['value'] - mean_val) / std_val"
   ]
  },
  {
   "cell_type": "code",
   "execution_count": 10,
   "id": "9731e6da-4b6b-416b-b343-7776ddcba159",
   "metadata": {},
   "outputs": [
    {
     "name": "stdout",
     "output_type": "stream",
     "text": [
      "Jumlah outlier terdeteksi: 0\n"
     ]
    }
   ],
   "source": [
    "df['outlier'] = df['z_score'].abs() > threshold\n",
    "print(f\"Jumlah outlier terdeteksi: {df['outlier'].sum()}\")"
   ]
  },
  {
   "cell_type": "code",
   "execution_count": 11,
   "id": "4c1e19b1-bedc-41ee-a6a2-5a4ef239cb8e",
   "metadata": {},
   "outputs": [],
   "source": [
    "import matplotlib.pyplot as plt\n",
    "import seaborn as sns"
   ]
  },
  {
   "cell_type": "code",
   "execution_count": 12,
   "id": "31e0b3ea-1162-4a9e-b50c-5d57c4b8c204",
   "metadata": {},
   "outputs": [
    {
     "data": {
      "image/png": "[encoded data removed]",
      "text/plain": [
       "<Figure size 1200x500 with 1 Axes>"
      ]
     },
     "metadata": {},
     "output_type": "display_data"
    }
   ],
   "source": [
    "plt.figure(figsize=(12, 5))\n",
    "plt.plot(df.index, df['value'], label='Value')\n",
    "plt.scatter(df.index[df['outlier']], df.loc[df['outlier'], 'value'], color='red', label='Outlier')\n",
    "plt.title('Outlier Detection')\n",
    "plt.legend()\n",
    "plt.show()"
   ]
  },
  {
   "cell_type": "code",
   "execution_count": 13,
   "id": "f6de3a4d-645f-4a44-b506-f3c6a500a7ff",
   "metadata": {},
   "outputs": [
    {
     "data": {
      "image/png": "[encoded data removed]",
      "text/plain": [
       "<Figure size 800x400 with 1 Axes>"
      ]
     },
     "metadata": {},
     "output_type": "display_data"
    }
   ],
   "source": [
    "plt.figure(figsize=(8, 4))\n",
    "plt.hist(df['value'], bins=30, color='skyblue')\n",
    "plt.title('Histogram Value')\n",
    "plt.xlabel('Value')\n",
    "plt.ylabel('Frekuensi')\n",
    "plt.show()"
   ]
  },
  {
   "cell_type": "code",
   "execution_count": 14,
   "id": "84cbeb29-034e-4a77-ad6a-f62879abbe97",
   "metadata": {},
   "outputs": [
    {
     "data": {
      "image/png": "[encoded data removed]",
      "text/plain": [
       "<Figure size 1200x400 with 1 Axes>"
      ]
     },
     "metadata": {},
     "output_type": "display_data"
    }
   ],
   "source": [
    "df['year'] = df.index.year\n",
    "yearly_mean = df.groupby('year')['value'].mean()\n",
    "\n",
    "plt.figure(figsize=(12, 4))\n",
    "yearly_mean.plot()\n",
    "plt.title('Rata-rata Value per Tahun')\n",
    "plt.ylabel('Mean Value')\n",
    "plt.show()"
   ]
  },
  {
   "cell_type": "code",
   "execution_count": 15,
   "id": "c418e94e-aa6d-4b4b-8959-f5c0a9852caf",
   "metadata": {},
   "outputs": [
    {
     "data": {
      "image/png": "[encoded data removed]",
      "text/plain": [
       "<Figure size 1200x500 with 1 Axes>"
      ]
     },
     "metadata": {},
     "output_type": "display_data"
    }
   ],
   "source": [
    "rolling_mean = df['value'].rolling(window=12).mean()\n",
    "rolling_std = df['value'].rolling(window=12).std()\n",
    "\n",
    "plt.figure(figsize=(12,5))\n",
    "plt.plot(df['value'], color='blue', label='Original')\n",
    "plt.plot(rolling_mean, color='red', label='Rolling Mean')\n",
    "plt.plot(rolling_std, color='black', label='Rolling Std')\n",
    "plt.title('Rolling Mean & Std')\n",
    "plt.legend()\n",
    "plt.show()"
   ]
  },
  {
   "cell_type": "code",
   "execution_count": 16,
   "id": "8ef8ee6c-796e-488c-82f6-9db76eb381f4",
   "metadata": {},
   "outputs": [],
   "source": [
    "from sklearn.preprocessing import StandardScaler\n",
    "from statsmodels.tsa.statespace.sarimax import SARIMAX\n",
    "from sklearn.metrics import mean_absolute_error\n",
    "import warnings\n",
    "warnings.filterwarnings('ignore')"
   ]
  },
  {
   "cell_type": "code",
   "execution_count": 17,
   "id": "13520fa9-0c32-4789-9338-8b689c4ee9d2",
   "metadata": {},
   "outputs": [],
   "source": [
    "df['log_value'] = np.log(df['value'])\n",
    "df['log_diff_seasonal'] = df['log_value'].diff(12)\n",
    "df['log_diff_seasonal_diff'] = df['log_diff_seasonal'].diff()"
   ]
  },
  {
   "cell_type": "code",
   "execution_count": 18,
   "id": "3fc50ce3-fe28-4f51-832a-4eb193e28efd",
   "metadata": {},
   "outputs": [],
   "source": [
    "df_feat = df.dropna(subset=['log_diff_seasonal_diff']).copy()"
   ]
  },
  {
   "cell_type": "code",
   "execution_count": 19,
   "id": "4d0e3ff0-a7c1-499f-806c-ffd588bbb2dc",
   "metadata": {},
   "outputs": [],
   "source": [
    "df_feat['month'] = df_feat.index.month\n",
    "df_feat['lag_1'] = df_feat['log_diff_seasonal_diff'].shift(1)\n",
    "df_feat['rolling_mean_3'] = df_feat['log_diff_seasonal_diff'].shift(1).rolling(3).mean()"
   ]
  },
  {
   "cell_type": "code",
   "execution_count": 20,
   "id": "b8476e33-5482-4737-b370-9a3f9cac5152",
   "metadata": {},
   "outputs": [],
   "source": [
    "df_feat = df_feat.dropna(subset=['lag_1', 'rolling_mean_3'])"
   ]
  },
  {
   "cell_type": "code",
   "execution_count": 21,
   "id": "e265a7d5-d75e-4a52-918d-ee86120f4cbc",
   "metadata": {},
   "outputs": [],
   "source": [
    "train = df_feat.loc[:'2018-12-01']\n",
    "test = df_feat.loc['2019-01-01':]"
   ]
  },
  {
   "cell_type": "code",
   "execution_count": 22,
   "id": "90a953a4-dda5-4530-bb0a-b35a0717a529",
   "metadata": {},
   "outputs": [],
   "source": [
    "target_col = 'log_diff_seasonal_diff'\n",
    "exog_cols = ['month', 'lag_1', 'rolling_mean_3']"
   ]
  },
  {
   "cell_type": "code",
   "execution_count": 23,
   "id": "fb5df20d-9642-4c52-a2b2-c73ba5b5aaeb",
   "metadata": {},
   "outputs": [],
   "source": [
    "train_y = train[target_col]\n",
    "test_y = test[target_col]"
   ]
  },
  {
   "cell_type": "code",
   "execution_count": 24,
   "id": "6c702c95-bf2d-4b4b-899a-05ca4deb3c94",
   "metadata": {},
   "outputs": [],
   "source": [
    "train_exog = train[exog_cols]\n",
    "test_exog = test[exog_cols]"
   ]
  },
  {
   "cell_type": "code",
   "execution_count": 25,
   "id": "df176454-6243-40d4-9957-0e60ee45b399",
   "metadata": {},
   "outputs": [],
   "source": [
    "import itertools\n",
    "from statsmodels.tsa.statespace.sarimax import SARIMAX\n",
    "from sklearn.metrics import mean_absolute_error"
   ]
  },
  {
   "cell_type": "code",
   "execution_count": 26,
   "id": "bace21c9-bb51-4b44-a8e6-5f012bf820c1",
   "metadata": {},
   "outputs": [
    {
     "name": "stdout",
     "output_type": "stream",
     "text": [
      "\n",
      "✅ Best params:\n",
      " - order: (1, 1, 0)\n",
      " - seasonal_order: (1, 1, 1, 12)\n"
     ]
    }
   ],
   "source": [
    "p = q = P = Q = range(0, 2)\n",
    "d, D, s = 1, 1, 12\n",
    "\n",
    "best_mae = np.inf\n",
    "best_order = None\n",
    "best_seasonal_order = None\n",
    "\n",
    "for order in itertools.product(p, [d], q):\n",
    "    for seasonal in itertools.product(P, [D], Q):\n",
    "        seasonal_order = (seasonal[0], D, seasonal[1], s)\n",
    "        try:\n",
    "            model = SARIMAX(train_y, exog=train_exog, \n",
    "                            order=order, seasonal_order=seasonal_order,\n",
    "                            enforce_stationarity=False, enforce_invertibility=False)\n",
    "            result = model.fit(disp=False)\n",
    "            mae = mean_absolute_error(train_y, result.fittedvalues)\n",
    "            if mae < best_mae:\n",
    "                best_mae = mae\n",
    "                best_order = order\n",
    "                best_seasonal_order = seasonal_order\n",
    "        except:\n",
    "            continue\n",
    "\n",
    "print(\"\\n✅ Best params:\")\n",
    "print(f\" - order: {best_order}\")\n",
    "print(f\" - seasonal_order: {best_seasonal_order}\")"
   ]
  },
  {
   "cell_type": "code",
   "execution_count": 27,
   "id": "2b019942-843b-4248-9661-8d54ac0b1db6",
   "metadata": {},
   "outputs": [],
   "source": [
    "final_model = SARIMAX(train_y, exog=train_exog, \n",
    "                      order=best_order, seasonal_order=best_seasonal_order,\n",
    "                      enforce_stationarity=False, enforce_invertibility=False)\n",
    "final_result = final_model.fit(disp=False)\n",
    "\n"
   ]
  },
  {
   "cell_type": "code",
   "execution_count": 28,
   "id": "929c74d4-6725-4311-a4e4-4c44d2ac42f1",
   "metadata": {},
   "outputs": [],
   "source": [
    "forecast_log_diff = final_result.forecast(steps=len(test), exog=test_exog)"
   ]
  },
  {
   "cell_type": "code",
   "execution_count": 29,
   "id": "4ae0bd9b-30fc-435f-808d-5e3ea60e1118",
   "metadata": {},
   "outputs": [],
   "source": [
    "test = test.copy()\n",
    "test['forecast_log_diff'] = forecast_log_diff.values"
   ]
  },
  {
   "cell_type": "code",
   "execution_count": 30,
   "id": "93556e43-6311-4402-a704-4e297cce9bcb",
   "metadata": {},
   "outputs": [],
   "source": [
    "history_log = list(train['log_value'][-12:])  # ambil 12 terakhir dari train\n",
    "predicted_log_values = []"
   ]
  },
  {
   "cell_type": "code",
   "execution_count": 31,
   "id": "c8b67c44-a46c-4061-8e3a-7d6f3f9ff4e1",
   "metadata": {},
   "outputs": [],
   "source": [
    "for i in range(len(test)):\n",
    "    # Seasonal lag\n",
    "    seasonal_lag = history_log[i] - history_log[i - 12]\n",
    "    pred = test['forecast_log_diff'].iloc[i] + history_log[-1] + seasonal_lag\n",
    "    predicted_log_values.append(pred)\n",
    "    history_log.append(pred)  # update history"
   ]
  },
  {
   "cell_type": "code",
   "execution_count": 32,
   "id": "3427009c-2e35-4cf4-9440-6dcd39ab9b23",
   "metadata": {},
   "outputs": [],
   "source": [
    "predicted_values = np.exp(predicted_log_values)\n"
   ]
  },
  {
   "cell_type": "code",
   "execution_count": 33,
   "id": "3ef73623-9493-455c-85b6-11a92e4e06f6",
   "metadata": {},
   "outputs": [],
   "source": [
    "actual_values = np.exp(test['log_value'].values)\n"
   ]
  },
  {
   "cell_type": "code",
   "execution_count": 34,
   "id": "76adf05b-c5ab-43d2-9f89-d18dc67642ac",
   "metadata": {},
   "outputs": [],
   "source": [
    "from sklearn.metrics import mean_squared_error, r2_score"
   ]
  },
  {
   "cell_type": "code",
   "execution_count": 35,
   "id": "c1d4f3e8-25e2-4c0a-9c0d-6208f4299cad",
   "metadata": {},
   "outputs": [
    {
     "name": "stdout",
     "output_type": "stream",
     "text": [
      "\n",
      "📊 📍 Evaluasi Test Set (skala asli):\n",
      " - MAE  : 2281.64\n",
      " - RMSE : 2804.99\n",
      " - MAPE : 0.69%\n",
      " - R²   : -21.2992\n",
      "\n",
      "✅ Hasil prediksi (5 data teratas):\n",
      "                actual       forecast\n",
      "date                                 \n",
      "2019-01-01  328467.812  328314.438936\n",
      "2019-02-01  328610.744  328172.952216\n",
      "2019-03-01  328742.843  327852.190702\n",
      "2019-04-01  328890.250  327329.259424\n",
      "2019-05-01  329047.319  326577.507482\n"
     ]
    }
   ],
   "source": [
    "mae = mean_absolute_error(actual_values, predicted_values)\n",
    "rmse = np.sqrt(mean_squared_error(actual_values, predicted_values))\n",
    "mape = np.mean(np.abs((actual_values - predicted_values) / actual_values)) * 100\n",
    "r2 = r2_score(actual_values, predicted_values)\n",
    "\n",
    "print(\"\\n📊 📍 Evaluasi Test Set (skala asli):\")\n",
    "print(f\" - MAE  : {mae:.2f}\")\n",
    "print(f\" - RMSE : {rmse:.2f}\")\n",
    "print(f\" - MAPE : {mape:.2f}%\")\n",
    "print(f\" - R²   : {r2:.4f}\")\n",
    "\n",
    "# Hasil prediksi\n",
    "df_result = pd.DataFrame({\n",
    "    'actual': actual_values,\n",
    "    'forecast': predicted_values\n",
    "}, index=test.index)\n",
    "print(\"\\n✅ Hasil prediksi (5 data teratas):\")\n",
    "print(df_result.head())"
   ]
  },
  {
   "cell_type": "code",
   "execution_count": 36,
   "id": "796fde8e-1d93-4d28-9a43-2bb92d3a0f6b",
   "metadata": {},
   "outputs": [
    {
     "data": {
      "text/html": [
       "<div>\n",
       "<style scoped>\n",
       "    .dataframe tbody tr th:only-of-type {\n",
       "        vertical-align: middle;\n",
       "    }\n",
       "\n",
       "    .dataframe tbody tr th {\n",
       "        vertical-align: top;\n",
       "    }\n",
       "\n",
       "    .dataframe thead th {\n",
       "        text-align: right;\n",
       "    }\n",
       "</style>\n",
       "<table border=\"1\" class=\"dataframe\">\n",
       "  <thead>\n",
       "    <tr style=\"text-align: right;\">\n",
       "      <th></th>\n",
       "      <th>realtime_start</th>\n",
       "      <th>value</th>\n",
       "      <th>realtime_end</th>\n",
       "      <th>z_score</th>\n",
       "      <th>outlier</th>\n",
       "      <th>year</th>\n",
       "      <th>log_value</th>\n",
       "      <th>log_diff_seasonal</th>\n",
       "      <th>log_diff_seasonal_diff</th>\n",
       "    </tr>\n",
       "    <tr>\n",
       "      <th>date</th>\n",
       "      <th></th>\n",
       "      <th></th>\n",
       "      <th></th>\n",
       "      <th></th>\n",
       "      <th></th>\n",
       "      <th></th>\n",
       "      <th></th>\n",
       "      <th></th>\n",
       "      <th></th>\n",
       "    </tr>\n",
       "  </thead>\n",
       "  <tbody>\n",
       "    <tr>\n",
       "      <th>1952-01-01</th>\n",
       "      <td>2019-12-06</td>\n",
       "      <td>156309.000</td>\n",
       "      <td>2019-12-06</td>\n",
       "      <td>-1.732784</td>\n",
       "      <td>False</td>\n",
       "      <td>1952</td>\n",
       "      <td>11.959590</td>\n",
       "      <td>NaN</td>\n",
       "      <td>NaN</td>\n",
       "    </tr>\n",
       "    <tr>\n",
       "      <th>1952-02-01</th>\n",
       "      <td>2019-12-06</td>\n",
       "      <td>156527.000</td>\n",
       "      <td>2019-12-06</td>\n",
       "      <td>-1.728469</td>\n",
       "      <td>False</td>\n",
       "      <td>1952</td>\n",
       "      <td>11.960984</td>\n",
       "      <td>NaN</td>\n",
       "      <td>NaN</td>\n",
       "    </tr>\n",
       "    <tr>\n",
       "      <th>1952-03-01</th>\n",
       "      <td>2019-12-06</td>\n",
       "      <td>156731.000</td>\n",
       "      <td>2019-12-06</td>\n",
       "      <td>-1.724431</td>\n",
       "      <td>False</td>\n",
       "      <td>1952</td>\n",
       "      <td>11.962286</td>\n",
       "      <td>NaN</td>\n",
       "      <td>NaN</td>\n",
       "    </tr>\n",
       "    <tr>\n",
       "      <th>1952-04-01</th>\n",
       "      <td>2019-12-06</td>\n",
       "      <td>156943.000</td>\n",
       "      <td>2019-12-06</td>\n",
       "      <td>-1.720234</td>\n",
       "      <td>False</td>\n",
       "      <td>1952</td>\n",
       "      <td>11.963638</td>\n",
       "      <td>NaN</td>\n",
       "      <td>NaN</td>\n",
       "    </tr>\n",
       "    <tr>\n",
       "      <th>1952-05-01</th>\n",
       "      <td>2019-12-06</td>\n",
       "      <td>157140.000</td>\n",
       "      <td>2019-12-06</td>\n",
       "      <td>-1.716335</td>\n",
       "      <td>False</td>\n",
       "      <td>1952</td>\n",
       "      <td>11.964892</td>\n",
       "      <td>NaN</td>\n",
       "      <td>NaN</td>\n",
       "    </tr>\n",
       "    <tr>\n",
       "      <th>...</th>\n",
       "      <td>...</td>\n",
       "      <td>...</td>\n",
       "      <td>...</td>\n",
       "      <td>...</td>\n",
       "      <td>...</td>\n",
       "      <td>...</td>\n",
       "      <td>...</td>\n",
       "      <td>...</td>\n",
       "      <td>...</td>\n",
       "    </tr>\n",
       "    <tr>\n",
       "      <th>2019-08-01</th>\n",
       "      <td>2019-12-06</td>\n",
       "      <td>329591.333</td>\n",
       "      <td>2019-12-06</td>\n",
       "      <td>1.697249</td>\n",
       "      <td>False</td>\n",
       "      <td>2019</td>\n",
       "      <td>12.705609</td>\n",
       "      <td>0.006059</td>\n",
       "      <td>-0.000004</td>\n",
       "    </tr>\n",
       "    <tr>\n",
       "      <th>2019-09-01</th>\n",
       "      <td>2019-12-06</td>\n",
       "      <td>329785.872</td>\n",
       "      <td>2019-12-06</td>\n",
       "      <td>1.701100</td>\n",
       "      <td>False</td>\n",
       "      <td>2019</td>\n",
       "      <td>12.706199</td>\n",
       "      <td>0.006056</td>\n",
       "      <td>-0.000004</td>\n",
       "    </tr>\n",
       "    <tr>\n",
       "      <th>2019-10-01</th>\n",
       "      <td>2019-12-06</td>\n",
       "      <td>329982.035</td>\n",
       "      <td>2019-12-06</td>\n",
       "      <td>1.704983</td>\n",
       "      <td>False</td>\n",
       "      <td>2019</td>\n",
       "      <td>12.706793</td>\n",
       "      <td>0.006052</td>\n",
       "      <td>-0.000004</td>\n",
       "    </tr>\n",
       "    <tr>\n",
       "      <th>2019-11-01</th>\n",
       "      <td>2019-12-06</td>\n",
       "      <td>330154.949</td>\n",
       "      <td>2019-12-06</td>\n",
       "      <td>1.708406</td>\n",
       "      <td>False</td>\n",
       "      <td>2019</td>\n",
       "      <td>12.707317</td>\n",
       "      <td>0.006049</td>\n",
       "      <td>-0.000003</td>\n",
       "    </tr>\n",
       "    <tr>\n",
       "      <th>2019-12-01</th>\n",
       "      <td>2019-12-06</td>\n",
       "      <td>330309.946</td>\n",
       "      <td>2019-12-06</td>\n",
       "      <td>1.711474</td>\n",
       "      <td>False</td>\n",
       "      <td>2019</td>\n",
       "      <td>12.707787</td>\n",
       "      <td>0.006046</td>\n",
       "      <td>-0.000003</td>\n",
       "    </tr>\n",
       "  </tbody>\n",
       "</table>\n",
       "<p>816 rows × 9 columns</p>\n",
       "</div>"
      ],
      "text/plain": [
       "           realtime_start       value realtime_end   z_score  outlier  year  \\\n",
       "date                                                                          \n",
       "1952-01-01     2019-12-06  156309.000   2019-12-06 -1.732784    False  1952   \n",
       "1952-02-01     2019-12-06  156527.000   2019-12-06 -1.728469    False  1952   \n",
       "1952-03-01     2019-12-06  156731.000   2019-12-06 -1.724431    False  1952   \n",
       "1952-04-01     2019-12-06  156943.000   2019-12-06 -1.720234    False  1952   \n",
       "1952-05-01     2019-12-06  157140.000   2019-12-06 -1.716335    False  1952   \n",
       "...                   ...         ...          ...       ...      ...   ...   \n",
       "2019-08-01     2019-12-06  329591.333   2019-12-06  1.697249    False  2019   \n",
       "2019-09-01     2019-12-06  329785.872   2019-12-06  1.701100    False  2019   \n",
       "2019-10-01     2019-12-06  329982.035   2019-12-06  1.704983    False  2019   \n",
       "2019-11-01     2019-12-06  330154.949   2019-12-06  1.708406    False  2019   \n",
       "2019-12-01     2019-12-06  330309.946   2019-12-06  1.711474    False  2019   \n",
       "\n",
       "            log_value  log_diff_seasonal  log_diff_seasonal_diff  \n",
       "date                                                              \n",
       "1952-01-01  11.959590                NaN                     NaN  \n",
       "1952-02-01  11.960984                NaN                     NaN  \n",
       "1952-03-01  11.962286                NaN                     NaN  \n",
       "1952-04-01  11.963638                NaN                     NaN  \n",
       "1952-05-01  11.964892                NaN                     NaN  \n",
       "...               ...                ...                     ...  \n",
       "2019-08-01  12.705609           0.006059               -0.000004  \n",
       "2019-09-01  12.706199           0.006056               -0.000004  \n",
       "2019-10-01  12.706793           0.006052               -0.000004  \n",
       "2019-11-01  12.707317           0.006049               -0.000003  \n",
       "2019-12-01  12.707787           0.006046               -0.000003  \n",
       "\n",
       "[816 rows x 9 columns]"
      ]
     },
     "execution_count": 36,
     "metadata": {},
     "output_type": "execute_result"
    }
   ],
   "source": [
    "df"
   ]
  }
 ],
 "metadata": {
  "kernelspec": {
   "display_name": "Python 3 (ipykernel)",
   "language": "python",
   "name": "python3"
  },
  "language_info": {
   "codemirror_mode": {
    "name": "ipython",
    "version": 3
   },
   "file_extension": ".py",
   "mimetype": "text/x-python",
   "name": "python",
   "nbconvert_exporter": "python",
   "pygments_lexer": "ipython3",
   "version": "3.11.8"
  }
 },
 "nbformat": 4,
 "nbformat_minor": 5
}
