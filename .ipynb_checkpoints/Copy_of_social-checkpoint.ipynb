{
 "cells": [
  {
   "cell_type": "code",
   "execution_count": 1,
   "metadata": {
    "colab": {
     "base_uri": "https://localhost:8080/",
     "height": 444
    },
    "id": "NhmDkGk99hZf",
    "outputId": "dcec8986-cc5a-47d2-b24a-409d8eb03e1c"
   },
   "outputs": [
    {
     "data": {
      "text/html": [
       "<div>\n",
       "<style scoped>\n",
       "    .dataframe tbody tr th:only-of-type {\n",
       "        vertical-align: middle;\n",
       "    }\n",
       "\n",
       "    .dataframe tbody tr th {\n",
       "        vertical-align: top;\n",
       "    }\n",
       "\n",
       "    .dataframe thead th {\n",
       "        text-align: right;\n",
       "    }\n",
       "</style>\n",
       "<table border=\"1\" class=\"dataframe\">\n",
       "  <thead>\n",
       "    <tr style=\"text-align: right;\">\n",
       "      <th></th>\n",
       "      <th>Student_ID</th>\n",
       "      <th>Age</th>\n",
       "      <th>Gender</th>\n",
       "      <th>Academic_Level</th>\n",
       "      <th>Country</th>\n",
       "      <th>Avg_Daily_Usage_Hours</th>\n",
       "      <th>Most_Used_Platform</th>\n",
       "      <th>Affects_Academic_Performance</th>\n",
       "      <th>Sleep_Hours_Per_Night</th>\n",
       "      <th>Mental_Health_Score</th>\n",
       "      <th>Relationship_Status</th>\n",
       "      <th>Conflicts_Over_Social_Media</th>\n",
       "      <th>Addicted_Score</th>\n",
       "    </tr>\n",
       "  </thead>\n",
       "  <tbody>\n",
       "    <tr>\n",
       "      <th>0</th>\n",
       "      <td>1</td>\n",
       "      <td>19</td>\n",
       "      <td>Female</td>\n",
       "      <td>Undergraduate</td>\n",
       "      <td>Bangladesh</td>\n",
       "      <td>5.2</td>\n",
       "      <td>Instagram</td>\n",
       "      <td>Yes</td>\n",
       "      <td>6.5</td>\n",
       "      <td>6</td>\n",
       "      <td>In Relationship</td>\n",
       "      <td>3</td>\n",
       "      <td>8</td>\n",
       "    </tr>\n",
       "    <tr>\n",
       "      <th>1</th>\n",
       "      <td>2</td>\n",
       "      <td>22</td>\n",
       "      <td>Male</td>\n",
       "      <td>Graduate</td>\n",
       "      <td>India</td>\n",
       "      <td>2.1</td>\n",
       "      <td>Twitter</td>\n",
       "      <td>No</td>\n",
       "      <td>7.5</td>\n",
       "      <td>8</td>\n",
       "      <td>Single</td>\n",
       "      <td>0</td>\n",
       "      <td>3</td>\n",
       "    </tr>\n",
       "    <tr>\n",
       "      <th>2</th>\n",
       "      <td>3</td>\n",
       "      <td>20</td>\n",
       "      <td>Female</td>\n",
       "      <td>Undergraduate</td>\n",
       "      <td>USA</td>\n",
       "      <td>6.0</td>\n",
       "      <td>TikTok</td>\n",
       "      <td>Yes</td>\n",
       "      <td>5.0</td>\n",
       "      <td>5</td>\n",
       "      <td>Complicated</td>\n",
       "      <td>4</td>\n",
       "      <td>9</td>\n",
       "    </tr>\n",
       "    <tr>\n",
       "      <th>3</th>\n",
       "      <td>4</td>\n",
       "      <td>18</td>\n",
       "      <td>Male</td>\n",
       "      <td>High School</td>\n",
       "      <td>UK</td>\n",
       "      <td>3.0</td>\n",
       "      <td>YouTube</td>\n",
       "      <td>No</td>\n",
       "      <td>7.0</td>\n",
       "      <td>7</td>\n",
       "      <td>Single</td>\n",
       "      <td>1</td>\n",
       "      <td>4</td>\n",
       "    </tr>\n",
       "    <tr>\n",
       "      <th>4</th>\n",
       "      <td>5</td>\n",
       "      <td>21</td>\n",
       "      <td>Male</td>\n",
       "      <td>Graduate</td>\n",
       "      <td>Canada</td>\n",
       "      <td>4.5</td>\n",
       "      <td>Facebook</td>\n",
       "      <td>Yes</td>\n",
       "      <td>6.0</td>\n",
       "      <td>6</td>\n",
       "      <td>In Relationship</td>\n",
       "      <td>2</td>\n",
       "      <td>7</td>\n",
       "    </tr>\n",
       "    <tr>\n",
       "      <th>...</th>\n",
       "      <td>...</td>\n",
       "      <td>...</td>\n",
       "      <td>...</td>\n",
       "      <td>...</td>\n",
       "      <td>...</td>\n",
       "      <td>...</td>\n",
       "      <td>...</td>\n",
       "      <td>...</td>\n",
       "      <td>...</td>\n",
       "      <td>...</td>\n",
       "      <td>...</td>\n",
       "      <td>...</td>\n",
       "      <td>...</td>\n",
       "    </tr>\n",
       "    <tr>\n",
       "      <th>700</th>\n",
       "      <td>701</td>\n",
       "      <td>20</td>\n",
       "      <td>Female</td>\n",
       "      <td>Undergraduate</td>\n",
       "      <td>Italy</td>\n",
       "      <td>4.7</td>\n",
       "      <td>TikTok</td>\n",
       "      <td>No</td>\n",
       "      <td>7.2</td>\n",
       "      <td>7</td>\n",
       "      <td>In Relationship</td>\n",
       "      <td>2</td>\n",
       "      <td>5</td>\n",
       "    </tr>\n",
       "    <tr>\n",
       "      <th>701</th>\n",
       "      <td>702</td>\n",
       "      <td>23</td>\n",
       "      <td>Male</td>\n",
       "      <td>Graduate</td>\n",
       "      <td>Russia</td>\n",
       "      <td>6.8</td>\n",
       "      <td>Instagram</td>\n",
       "      <td>Yes</td>\n",
       "      <td>5.9</td>\n",
       "      <td>4</td>\n",
       "      <td>Single</td>\n",
       "      <td>5</td>\n",
       "      <td>9</td>\n",
       "    </tr>\n",
       "    <tr>\n",
       "      <th>702</th>\n",
       "      <td>703</td>\n",
       "      <td>21</td>\n",
       "      <td>Female</td>\n",
       "      <td>Undergraduate</td>\n",
       "      <td>China</td>\n",
       "      <td>5.6</td>\n",
       "      <td>WeChat</td>\n",
       "      <td>Yes</td>\n",
       "      <td>6.7</td>\n",
       "      <td>6</td>\n",
       "      <td>In Relationship</td>\n",
       "      <td>3</td>\n",
       "      <td>7</td>\n",
       "    </tr>\n",
       "    <tr>\n",
       "      <th>703</th>\n",
       "      <td>704</td>\n",
       "      <td>24</td>\n",
       "      <td>Male</td>\n",
       "      <td>Graduate</td>\n",
       "      <td>Japan</td>\n",
       "      <td>4.3</td>\n",
       "      <td>Twitter</td>\n",
       "      <td>No</td>\n",
       "      <td>7.5</td>\n",
       "      <td>8</td>\n",
       "      <td>Single</td>\n",
       "      <td>2</td>\n",
       "      <td>4</td>\n",
       "    </tr>\n",
       "    <tr>\n",
       "      <th>704</th>\n",
       "      <td>705</td>\n",
       "      <td>19</td>\n",
       "      <td>Female</td>\n",
       "      <td>Undergraduate</td>\n",
       "      <td>Poland</td>\n",
       "      <td>6.2</td>\n",
       "      <td>Facebook</td>\n",
       "      <td>Yes</td>\n",
       "      <td>6.3</td>\n",
       "      <td>5</td>\n",
       "      <td>Single</td>\n",
       "      <td>4</td>\n",
       "      <td>8</td>\n",
       "    </tr>\n",
       "  </tbody>\n",
       "</table>\n",
       "<p>705 rows × 13 columns</p>\n",
       "</div>"
      ],
      "text/plain": [
       "     Student_ID  Age  Gender Academic_Level     Country  \\\n",
       "0             1   19  Female  Undergraduate  Bangladesh   \n",
       "1             2   22    Male       Graduate       India   \n",
       "2             3   20  Female  Undergraduate         USA   \n",
       "3             4   18    Male    High School          UK   \n",
       "4             5   21    Male       Graduate      Canada   \n",
       "..          ...  ...     ...            ...         ...   \n",
       "700         701   20  Female  Undergraduate       Italy   \n",
       "701         702   23    Male       Graduate      Russia   \n",
       "702         703   21  Female  Undergraduate       China   \n",
       "703         704   24    Male       Graduate       Japan   \n",
       "704         705   19  Female  Undergraduate      Poland   \n",
       "\n",
       "     Avg_Daily_Usage_Hours Most_Used_Platform Affects_Academic_Performance  \\\n",
       "0                      5.2          Instagram                          Yes   \n",
       "1                      2.1            Twitter                           No   \n",
       "2                      6.0             TikTok                          Yes   \n",
       "3                      3.0            YouTube                           No   \n",
       "4                      4.5           Facebook                          Yes   \n",
       "..                     ...                ...                          ...   \n",
       "700                    4.7             TikTok                           No   \n",
       "701                    6.8          Instagram                          Yes   \n",
       "702                    5.6             WeChat                          Yes   \n",
       "703                    4.3            Twitter                           No   \n",
       "704                    6.2           Facebook                          Yes   \n",
       "\n",
       "     Sleep_Hours_Per_Night  Mental_Health_Score Relationship_Status  \\\n",
       "0                      6.5                    6     In Relationship   \n",
       "1                      7.5                    8              Single   \n",
       "2                      5.0                    5         Complicated   \n",
       "3                      7.0                    7              Single   \n",
       "4                      6.0                    6     In Relationship   \n",
       "..                     ...                  ...                 ...   \n",
       "700                    7.2                    7     In Relationship   \n",
       "701                    5.9                    4              Single   \n",
       "702                    6.7                    6     In Relationship   \n",
       "703                    7.5                    8              Single   \n",
       "704                    6.3                    5              Single   \n",
       "\n",
       "     Conflicts_Over_Social_Media  Addicted_Score  \n",
       "0                              3               8  \n",
       "1                              0               3  \n",
       "2                              4               9  \n",
       "3                              1               4  \n",
       "4                              2               7  \n",
       "..                           ...             ...  \n",
       "700                            2               5  \n",
       "701                            5               9  \n",
       "702                            3               7  \n",
       "703                            2               4  \n",
       "704                            4               8  \n",
       "\n",
       "[705 rows x 13 columns]"
      ]
     },
     "execution_count": 1,
     "metadata": {},
     "output_type": "execute_result"
    }
   ],
   "source": [
    "import pandas as pd\n",
    "import numpy as np\n",
    "\n",
    "df = pd.read_csv(\"Students Social Media Addiction.csv\")\n",
    "df"
   ]
  },
  {
   "cell_type": "code",
   "execution_count": 2,
   "metadata": {
    "colab": {
     "base_uri": "https://localhost:8080/"
    },
    "id": "poMBJPYk9hZh",
    "outputId": "3427b06b-0a52-4cbe-8949-21ba06e2d4df"
   },
   "outputs": [
    {
     "name": "stdout",
     "output_type": "stream",
     "text": [
      "<class 'pandas.core.frame.DataFrame'>\n",
      "RangeIndex: 705 entries, 0 to 704\n",
      "Data columns (total 13 columns):\n",
      " #   Column                        Non-Null Count  Dtype  \n",
      "---  ------                        --------------  -----  \n",
      " 0   Student_ID                    705 non-null    int64  \n",
      " 1   Age                           705 non-null    int64  \n",
      " 2   Gender                        705 non-null    object \n",
      " 3   Academic_Level                705 non-null    object \n",
      " 4   Country                       705 non-null    object \n",
      " 5   Avg_Daily_Usage_Hours         705 non-null    float64\n",
      " 6   Most_Used_Platform            705 non-null    object \n",
      " 7   Affects_Academic_Performance  705 non-null    object \n",
      " 8   Sleep_Hours_Per_Night         705 non-null    float64\n",
      " 9   Mental_Health_Score           705 non-null    int64  \n",
      " 10  Relationship_Status           705 non-null    object \n",
      " 11  Conflicts_Over_Social_Media   705 non-null    int64  \n",
      " 12  Addicted_Score                705 non-null    int64  \n",
      "dtypes: float64(2), int64(5), object(6)\n",
      "memory usage: 71.7+ KB\n",
      "None\n",
      "        Student_ID         Age  Gender Academic_Level Country  \\\n",
      "count   705.000000  705.000000     705            705     705   \n",
      "unique         NaN         NaN       2              3     110   \n",
      "top            NaN         NaN  Female  Undergraduate   India   \n",
      "freq           NaN         NaN     353            353      53   \n",
      "mean    353.000000   20.659574     NaN            NaN     NaN   \n",
      "std     203.660256    1.399217     NaN            NaN     NaN   \n",
      "min       1.000000   18.000000     NaN            NaN     NaN   \n",
      "25%     177.000000   19.000000     NaN            NaN     NaN   \n",
      "50%     353.000000   21.000000     NaN            NaN     NaN   \n",
      "75%     529.000000   22.000000     NaN            NaN     NaN   \n",
      "max     705.000000   24.000000     NaN            NaN     NaN   \n",
      "\n",
      "        Avg_Daily_Usage_Hours Most_Used_Platform Affects_Academic_Performance  \\\n",
      "count              705.000000                705                          705   \n",
      "unique                    NaN                 12                            2   \n",
      "top                       NaN          Instagram                          Yes   \n",
      "freq                      NaN                249                          453   \n",
      "mean                 4.918723                NaN                          NaN   \n",
      "std                  1.257395                NaN                          NaN   \n",
      "min                  1.500000                NaN                          NaN   \n",
      "25%                  4.100000                NaN                          NaN   \n",
      "50%                  4.800000                NaN                          NaN   \n",
      "75%                  5.800000                NaN                          NaN   \n",
      "max                  8.500000                NaN                          NaN   \n",
      "\n",
      "        Sleep_Hours_Per_Night  Mental_Health_Score Relationship_Status  \\\n",
      "count              705.000000           705.000000                 705   \n",
      "unique                    NaN                  NaN                   3   \n",
      "top                       NaN                  NaN              Single   \n",
      "freq                      NaN                  NaN                 384   \n",
      "mean                 6.868936             6.226950                 NaN   \n",
      "std                  1.126848             1.105055                 NaN   \n",
      "min                  3.800000             4.000000                 NaN   \n",
      "25%                  6.000000             5.000000                 NaN   \n",
      "50%                  6.900000             6.000000                 NaN   \n",
      "75%                  7.700000             7.000000                 NaN   \n",
      "max                  9.600000             9.000000                 NaN   \n",
      "\n",
      "        Conflicts_Over_Social_Media  Addicted_Score  \n",
      "count                    705.000000      705.000000  \n",
      "unique                          NaN             NaN  \n",
      "top                             NaN             NaN  \n",
      "freq                            NaN             NaN  \n",
      "mean                       2.849645        6.436879  \n",
      "std                        0.957968        1.587165  \n",
      "min                        0.000000        2.000000  \n",
      "25%                        2.000000        5.000000  \n",
      "50%                        3.000000        7.000000  \n",
      "75%                        4.000000        8.000000  \n",
      "max                        5.000000        9.000000  \n",
      "Student_ID                      0\n",
      "Age                             0\n",
      "Gender                          0\n",
      "Academic_Level                  0\n",
      "Country                         0\n",
      "Avg_Daily_Usage_Hours           0\n",
      "Most_Used_Platform              0\n",
      "Affects_Academic_Performance    0\n",
      "Sleep_Hours_Per_Night           0\n",
      "Mental_Health_Score             0\n",
      "Relationship_Status             0\n",
      "Conflicts_Over_Social_Media     0\n",
      "Addicted_Score                  0\n",
      "dtype: int64\n"
     ]
    }
   ],
   "source": [
    "print(df.info())\n",
    "print(df.describe(include='all'))\n",
    "print(df.isnull().sum())"
   ]
  },
  {
   "cell_type": "code",
   "execution_count": 3,
   "metadata": {
    "id": "Db_-Eir19hZi"
   },
   "outputs": [],
   "source": [
    "from scipy import stats"
   ]
  },
  {
   "cell_type": "code",
   "execution_count": 4,
   "metadata": {
    "colab": {
     "base_uri": "https://localhost:8080/"
    },
    "id": "wmymZ1FF9hZj",
    "outputId": "0ac3c917-024b-4aee-d990-19087a7fcd60"
   },
   "outputs": [
    {
     "name": "stdout",
     "output_type": "stream",
     "text": [
      "Jumlah outliers terdeteksi: 0\n"
     ]
    }
   ],
   "source": [
    "numeric_cols = ['Age', 'Avg_Daily_Usage_Hours', 'Sleep_Hours_Per_Night',\n",
    "                'Mental_Health_Score', 'Conflicts_Over_Social_Media', 'Addicted_Score']\n",
    "\n",
    "z_scores = np.abs(stats.zscore(df[numeric_cols]))\n",
    "outliers = (z_scores > 3).any(axis=1)\n",
    "print(f\"Jumlah outliers terdeteksi: {outliers.sum()}\")"
   ]
  },
  {
   "cell_type": "code",
   "execution_count": 5,
   "metadata": {
    "id": "hxOAvN8Z9hZk"
   },
   "outputs": [],
   "source": [
    "import matplotlib.pyplot as plt\n",
    "import seaborn as sns"
   ]
  },
  {
   "cell_type": "code",
   "execution_count": 6,
   "metadata": {
    "colab": {
     "base_uri": "https://localhost:8080/",
     "height": 1000
    },
    "id": "MnUhfRox9hZl",
    "outputId": "2d2bb1dd-3951-4ede-8883-e214772d1add"
   },
   "outputs": [
    {
     "data": {
      "image/png": "[encoded data removed]",
      "text/plain": [
       "<Figure size 500x300 with 1 Axes>"
      ]
     },
     "metadata": {},
     "output_type": "display_data"
    },
    {
     "data": {
      "image/png": "[encoded data removed]",
      "text/plain": [
       "<Figure size 500x300 with 1 Axes>"
      ]
     },
     "metadata": {},
     "output_type": "display_data"
    },
    {
     "data": {
      "image/png": "[encoded data removed]",
      "text/plain": [
       "<Figure size 500x300 with 1 Axes>"
      ]
     },
     "metadata": {},
     "output_type": "display_data"
    },
    {
     "data": {
      "image/png": "[encoded data removed]",
      "text/plain": [
       "<Figure size 500x300 with 1 Axes>"
      ]
     },
     "metadata": {},
     "output_type": "display_data"
    },
    {
     "data": {
      "image/png": "[encoded data removed]",
      "text/plain": [
       "<Figure size 500x300 with 1 Axes>"
      ]
     },
     "metadata": {},
     "output_type": "display_data"
    },
    {
     "data": {
      "image/png": "[encoded data removed]",
      "text/plain": [
       "<Figure size 500x300 with 1 Axes>"
      ]
     },
     "metadata": {},
     "output_type": "display_data"
    }
   ],
   "source": [
    "for col in numeric_cols:\n",
    "    plt.figure(figsize=(5,3))\n",
    "    sns.histplot(df[col], kde=True, bins=20)\n",
    "    plt.title(f'Distribution of {col}')\n",
    "    plt.show()"
   ]
  },
  {
   "cell_type": "code",
   "execution_count": 7,
   "metadata": {
    "colab": {
     "base_uri": "https://localhost:8080/"
    },
    "id": "Y01mKPLT9hZm",
    "outputId": "f871ac82-4482-45a3-d108-140d15bee6f9"
   },
   "outputs": [
    {
     "name": "stdout",
     "output_type": "stream",
     "text": [
      "Most_Used_Platform\n",
      "Instagram    249\n",
      "TikTok       154\n",
      "Facebook     123\n",
      "WhatsApp      54\n",
      "Twitter       30\n",
      "LinkedIn      21\n",
      "WeChat        15\n",
      "Snapchat      13\n",
      "LINE          12\n",
      "KakaoTalk     12\n",
      "VKontakte     12\n",
      "YouTube       10\n",
      "Name: count, dtype: int64\n"
     ]
    }
   ],
   "source": [
    "target = 'Most_Used_Platform'\n",
    "print(df[target].value_counts())"
   ]
  },
  {
   "cell_type": "code",
   "execution_count": 8,
   "metadata": {
    "colab": {
     "base_uri": "https://localhost:8080/",
     "height": 444
    },
    "id": "HKOPg1Xp9hZn",
    "outputId": "6c49ce81-f187-4cf9-83be-89e6bf987660"
   },
   "outputs": [
    {
     "data": {
      "text/html": [
       "<div>\n",
       "<style scoped>\n",
       "    .dataframe tbody tr th:only-of-type {\n",
       "        vertical-align: middle;\n",
       "    }\n",
       "\n",
       "    .dataframe tbody tr th {\n",
       "        vertical-align: top;\n",
       "    }\n",
       "\n",
       "    .dataframe thead th {\n",
       "        text-align: right;\n",
       "    }\n",
       "</style>\n",
       "<table border=\"1\" class=\"dataframe\">\n",
       "  <thead>\n",
       "    <tr style=\"text-align: right;\">\n",
       "      <th></th>\n",
       "      <th>Age</th>\n",
       "      <th>Gender</th>\n",
       "      <th>Academic_Level</th>\n",
       "      <th>Country</th>\n",
       "      <th>Avg_Daily_Usage_Hours</th>\n",
       "      <th>Most_Used_Platform</th>\n",
       "      <th>Affects_Academic_Performance</th>\n",
       "      <th>Sleep_Hours_Per_Night</th>\n",
       "      <th>Mental_Health_Score</th>\n",
       "      <th>Relationship_Status</th>\n",
       "      <th>Conflicts_Over_Social_Media</th>\n",
       "      <th>Addicted_Score</th>\n",
       "    </tr>\n",
       "  </thead>\n",
       "  <tbody>\n",
       "    <tr>\n",
       "      <th>0</th>\n",
       "      <td>19</td>\n",
       "      <td>Female</td>\n",
       "      <td>Undergraduate</td>\n",
       "      <td>Bangladesh</td>\n",
       "      <td>5.2</td>\n",
       "      <td>Instagram</td>\n",
       "      <td>Yes</td>\n",
       "      <td>6.5</td>\n",
       "      <td>6</td>\n",
       "      <td>In Relationship</td>\n",
       "      <td>3</td>\n",
       "      <td>8</td>\n",
       "    </tr>\n",
       "    <tr>\n",
       "      <th>1</th>\n",
       "      <td>22</td>\n",
       "      <td>Male</td>\n",
       "      <td>Graduate</td>\n",
       "      <td>India</td>\n",
       "      <td>2.1</td>\n",
       "      <td>Twitter</td>\n",
       "      <td>No</td>\n",
       "      <td>7.5</td>\n",
       "      <td>8</td>\n",
       "      <td>Single</td>\n",
       "      <td>0</td>\n",
       "      <td>3</td>\n",
       "    </tr>\n",
       "    <tr>\n",
       "      <th>2</th>\n",
       "      <td>20</td>\n",
       "      <td>Female</td>\n",
       "      <td>Undergraduate</td>\n",
       "      <td>USA</td>\n",
       "      <td>6.0</td>\n",
       "      <td>TikTok</td>\n",
       "      <td>Yes</td>\n",
       "      <td>5.0</td>\n",
       "      <td>5</td>\n",
       "      <td>Complicated</td>\n",
       "      <td>4</td>\n",
       "      <td>9</td>\n",
       "    </tr>\n",
       "    <tr>\n",
       "      <th>3</th>\n",
       "      <td>18</td>\n",
       "      <td>Male</td>\n",
       "      <td>High School</td>\n",
       "      <td>UK</td>\n",
       "      <td>3.0</td>\n",
       "      <td>YouTube</td>\n",
       "      <td>No</td>\n",
       "      <td>7.0</td>\n",
       "      <td>7</td>\n",
       "      <td>Single</td>\n",
       "      <td>1</td>\n",
       "      <td>4</td>\n",
       "    </tr>\n",
       "    <tr>\n",
       "      <th>4</th>\n",
       "      <td>21</td>\n",
       "      <td>Male</td>\n",
       "      <td>Graduate</td>\n",
       "      <td>Canada</td>\n",
       "      <td>4.5</td>\n",
       "      <td>Facebook</td>\n",
       "      <td>Yes</td>\n",
       "      <td>6.0</td>\n",
       "      <td>6</td>\n",
       "      <td>In Relationship</td>\n",
       "      <td>2</td>\n",
       "      <td>7</td>\n",
       "    </tr>\n",
       "    <tr>\n",
       "      <th>...</th>\n",
       "      <td>...</td>\n",
       "      <td>...</td>\n",
       "      <td>...</td>\n",
       "      <td>...</td>\n",
       "      <td>...</td>\n",
       "      <td>...</td>\n",
       "      <td>...</td>\n",
       "      <td>...</td>\n",
       "      <td>...</td>\n",
       "      <td>...</td>\n",
       "      <td>...</td>\n",
       "      <td>...</td>\n",
       "    </tr>\n",
       "    <tr>\n",
       "      <th>700</th>\n",
       "      <td>20</td>\n",
       "      <td>Female</td>\n",
       "      <td>Undergraduate</td>\n",
       "      <td>Italy</td>\n",
       "      <td>4.7</td>\n",
       "      <td>TikTok</td>\n",
       "      <td>No</td>\n",
       "      <td>7.2</td>\n",
       "      <td>7</td>\n",
       "      <td>In Relationship</td>\n",
       "      <td>2</td>\n",
       "      <td>5</td>\n",
       "    </tr>\n",
       "    <tr>\n",
       "      <th>701</th>\n",
       "      <td>23</td>\n",
       "      <td>Male</td>\n",
       "      <td>Graduate</td>\n",
       "      <td>Russia</td>\n",
       "      <td>6.8</td>\n",
       "      <td>Instagram</td>\n",
       "      <td>Yes</td>\n",
       "      <td>5.9</td>\n",
       "      <td>4</td>\n",
       "      <td>Single</td>\n",
       "      <td>5</td>\n",
       "      <td>9</td>\n",
       "    </tr>\n",
       "    <tr>\n",
       "      <th>702</th>\n",
       "      <td>21</td>\n",
       "      <td>Female</td>\n",
       "      <td>Undergraduate</td>\n",
       "      <td>China</td>\n",
       "      <td>5.6</td>\n",
       "      <td>WeChat</td>\n",
       "      <td>Yes</td>\n",
       "      <td>6.7</td>\n",
       "      <td>6</td>\n",
       "      <td>In Relationship</td>\n",
       "      <td>3</td>\n",
       "      <td>7</td>\n",
       "    </tr>\n",
       "    <tr>\n",
       "      <th>703</th>\n",
       "      <td>24</td>\n",
       "      <td>Male</td>\n",
       "      <td>Graduate</td>\n",
       "      <td>Japan</td>\n",
       "      <td>4.3</td>\n",
       "      <td>Twitter</td>\n",
       "      <td>No</td>\n",
       "      <td>7.5</td>\n",
       "      <td>8</td>\n",
       "      <td>Single</td>\n",
       "      <td>2</td>\n",
       "      <td>4</td>\n",
       "    </tr>\n",
       "    <tr>\n",
       "      <th>704</th>\n",
       "      <td>19</td>\n",
       "      <td>Female</td>\n",
       "      <td>Undergraduate</td>\n",
       "      <td>Poland</td>\n",
       "      <td>6.2</td>\n",
       "      <td>Facebook</td>\n",
       "      <td>Yes</td>\n",
       "      <td>6.3</td>\n",
       "      <td>5</td>\n",
       "      <td>Single</td>\n",
       "      <td>4</td>\n",
       "      <td>8</td>\n",
       "    </tr>\n",
       "  </tbody>\n",
       "</table>\n",
       "<p>705 rows × 12 columns</p>\n",
       "</div>"
      ],
      "text/plain": [
       "     Age  Gender Academic_Level     Country  Avg_Daily_Usage_Hours  \\\n",
       "0     19  Female  Undergraduate  Bangladesh                    5.2   \n",
       "1     22    Male       Graduate       India                    2.1   \n",
       "2     20  Female  Undergraduate         USA                    6.0   \n",
       "3     18    Male    High School          UK                    3.0   \n",
       "4     21    Male       Graduate      Canada                    4.5   \n",
       "..   ...     ...            ...         ...                    ...   \n",
       "700   20  Female  Undergraduate       Italy                    4.7   \n",
       "701   23    Male       Graduate      Russia                    6.8   \n",
       "702   21  Female  Undergraduate       China                    5.6   \n",
       "703   24    Male       Graduate       Japan                    4.3   \n",
       "704   19  Female  Undergraduate      Poland                    6.2   \n",
       "\n",
       "    Most_Used_Platform Affects_Academic_Performance  Sleep_Hours_Per_Night  \\\n",
       "0            Instagram                          Yes                    6.5   \n",
       "1              Twitter                           No                    7.5   \n",
       "2               TikTok                          Yes                    5.0   \n",
       "3              YouTube                           No                    7.0   \n",
       "4             Facebook                          Yes                    6.0   \n",
       "..                 ...                          ...                    ...   \n",
       "700             TikTok                           No                    7.2   \n",
       "701          Instagram                          Yes                    5.9   \n",
       "702             WeChat                          Yes                    6.7   \n",
       "703            Twitter                           No                    7.5   \n",
       "704           Facebook                          Yes                    6.3   \n",
       "\n",
       "     Mental_Health_Score Relationship_Status  Conflicts_Over_Social_Media  \\\n",
       "0                      6     In Relationship                            3   \n",
       "1                      8              Single                            0   \n",
       "2                      5         Complicated                            4   \n",
       "3                      7              Single                            1   \n",
       "4                      6     In Relationship                            2   \n",
       "..                   ...                 ...                          ...   \n",
       "700                    7     In Relationship                            2   \n",
       "701                    4              Single                            5   \n",
       "702                    6     In Relationship                            3   \n",
       "703                    8              Single                            2   \n",
       "704                    5              Single                            4   \n",
       "\n",
       "     Addicted_Score  \n",
       "0                 8  \n",
       "1                 3  \n",
       "2                 9  \n",
       "3                 4  \n",
       "4                 7  \n",
       "..              ...  \n",
       "700               5  \n",
       "701               9  \n",
       "702               7  \n",
       "703               4  \n",
       "704               8  \n",
       "\n",
       "[705 rows x 12 columns]"
      ]
     },
     "execution_count": 8,
     "metadata": {},
     "output_type": "execute_result"
    }
   ],
   "source": [
    "df = df.drop(columns=['Student_ID'])\n",
    "df"
   ]
  },
  {
   "cell_type": "code",
   "execution_count": 9,
   "metadata": {
    "id": "TxD6EjFE9hZo"
   },
   "outputs": [],
   "source": [
    "country_freq = df['Country'].value_counts(normalize=False)\n",
    "df['Country_FE'] = df['Country'].map(country_freq)\n",
    "df = df.drop(columns=['Country'])"
   ]
  },
  {
   "cell_type": "code",
   "execution_count": 10,
   "metadata": {
    "id": "vICv_zH-9hZp"
   },
   "outputs": [],
   "source": [
    "X = df.drop(columns=['Most_Used_Platform'])\n",
    "y = df['Most_Used_Platform']"
   ]
  },
  {
   "cell_type": "code",
   "execution_count": 11,
   "metadata": {
    "id": "q9Y5woZN9hZp"
   },
   "outputs": [],
   "source": [
    "from sklearn.model_selection import train_test_split\n",
    "from collections import Counter\n"
   ]
  },
  {
   "cell_type": "code",
   "execution_count": 12,
   "metadata": {
    "id": "iGEXxeLz9hZp"
   },
   "outputs": [],
   "source": [
    "X_train, X_test, y_train, y_test = train_test_split(\n",
    "    X, y, test_size=0.2, random_state=42, stratify=y\n",
    ")"
   ]
  },
  {
   "cell_type": "code",
   "execution_count": 13,
   "metadata": {
    "id": "doklrJqq9hZq"
   },
   "outputs": [],
   "source": [
    "from imblearn.over_sampling import RandomOverSampler"
   ]
  },
  {
   "cell_type": "code",
   "execution_count": 14,
   "metadata": {
    "colab": {
     "base_uri": "https://localhost:8080/"
    },
    "id": "b2thxvox9hZq",
    "outputId": "113fb2c2-36c7-49dd-c870-92b9db14f88a"
   },
   "outputs": [
    {
     "name": "stdout",
     "output_type": "stream",
     "text": [
      "Distribusi sebelum oversampling: Counter({'Instagram': 199, 'TikTok': 123, 'Facebook': 98, 'WhatsApp': 43, 'Twitter': 24, 'LinkedIn': 17, 'WeChat': 12, 'LINE': 10, 'VKontakte': 10, 'KakaoTalk': 10, 'Snapchat': 10, 'YouTube': 8})\n",
      "Distribusi setelah oversampling: Counter({'WhatsApp': 199, 'Instagram': 199, 'Facebook': 199, 'TikTok': 199, 'LINE': 199, 'Twitter': 199, 'WeChat': 199, 'VKontakte': 199, 'KakaoTalk': 199, 'LinkedIn': 199, 'Snapchat': 199, 'YouTube': 199})\n"
     ]
    },
    {
     "name": "stderr",
     "output_type": "stream",
     "text": [
      "C:\\Users\\I Putu Nanda Aditya\\AppData\\Roaming\\Python\\Python312\\site-packages\\sklearn\\base.py:484: FutureWarning: `BaseEstimator._check_n_features` is deprecated in 1.6 and will be removed in 1.7. Use `sklearn.utils.validation._check_n_features` instead.\n",
      "  warnings.warn(\n",
      "C:\\Users\\I Putu Nanda Aditya\\AppData\\Roaming\\Python\\Python312\\site-packages\\sklearn\\base.py:493: FutureWarning: `BaseEstimator._check_feature_names` is deprecated in 1.6 and will be removed in 1.7. Use `sklearn.utils.validation._check_feature_names` instead.\n",
      "  warnings.warn(\n"
     ]
    }
   ],
   "source": [
    "print(\"Distribusi sebelum oversampling:\", Counter(y_train))\n",
    "\n",
    "ros = RandomOverSampler(random_state=42)\n",
    "X_train_resampled, y_train_resampled = ros.fit_resample(X_train, y_train)\n",
    "\n",
    "print(\"Distribusi setelah oversampling:\", Counter(y_train_resampled))"
   ]
  },
  {
   "cell_type": "code",
   "execution_count": 15,
   "metadata": {
    "id": "EVFeZgqV9rx7"
   },
   "outputs": [],
   "source": [
    "def add_complex_features(df):\n",
    "    # Ratio / interaction features\n",
    "    df['Usage_per_Sleep'] = df['Avg_Daily_Usage_Hours'] / df['Sleep_Hours_Per_Night']\n",
    "    df['Addicted_per_Mental'] = df['Addicted_Score'] / df['Mental_Health_Score']\n",
    "    df['Conflict_per_Usage'] = df['Conflicts_Over_Social_Media'] / df['Avg_Daily_Usage_Hours']\n",
    "\n",
    "    # Binary status\n",
    "    df['Is_Graduate'] = (df['Academic_Level'] == 'Graduate').astype(int)\n",
    "    df['Is_Undergraduate'] = (df['Academic_Level'] == 'Undergraduate').astype(int)\n",
    "    df['Is_Single'] = (df['Relationship_Status'] == 'Single').astype(int)\n",
    "\n",
    "    # Interaction categorical\n",
    "    df['Gender_Academic'] = df['Gender'] + '_' + df['Academic_Level']\n",
    "    df['Academic_Relationship'] = df['Academic_Level'] + '_' + df['Relationship_Status']\n",
    "\n",
    "    # Bucket fitur numerik\n",
    "    df['Age_Group'] = pd.cut(\n",
    "        df['Age'], bins=[17,19,21,24], labels=[0,1,2]\n",
    "    ).astype(int)\n",
    "\n",
    "    df['Sleep_Low'] = (df['Sleep_Hours_Per_Night'] < 6).astype(int)\n",
    "\n",
    "    return df"
   ]
  },
  {
   "cell_type": "code",
   "execution_count": 16,
   "metadata": {
    "id": "mGTK7E1q-Arj"
   },
   "outputs": [],
   "source": [
    "X_train_resampled = add_complex_features(X_train_resampled.copy())\n",
    "X_test = add_complex_features(X_test.copy())"
   ]
  },
  {
   "cell_type": "code",
   "execution_count": 17,
   "metadata": {
    "colab": {
     "base_uri": "https://localhost:8080/",
     "height": 444
    },
    "id": "X_jo7Qfp-Lgt",
    "outputId": "73205744-3858-4a54-8f8f-0b62a56fe12d"
   },
   "outputs": [
    {
     "data": {
      "text/html": [
       "<div>\n",
       "<style scoped>\n",
       "    .dataframe tbody tr th:only-of-type {\n",
       "        vertical-align: middle;\n",
       "    }\n",
       "\n",
       "    .dataframe tbody tr th {\n",
       "        vertical-align: top;\n",
       "    }\n",
       "\n",
       "    .dataframe thead th {\n",
       "        text-align: right;\n",
       "    }\n",
       "</style>\n",
       "<table border=\"1\" class=\"dataframe\">\n",
       "  <thead>\n",
       "    <tr style=\"text-align: right;\">\n",
       "      <th></th>\n",
       "      <th>Age</th>\n",
       "      <th>Gender</th>\n",
       "      <th>Academic_Level</th>\n",
       "      <th>Avg_Daily_Usage_Hours</th>\n",
       "      <th>Affects_Academic_Performance</th>\n",
       "      <th>Sleep_Hours_Per_Night</th>\n",
       "      <th>Mental_Health_Score</th>\n",
       "      <th>Relationship_Status</th>\n",
       "      <th>Conflicts_Over_Social_Media</th>\n",
       "      <th>Addicted_Score</th>\n",
       "      <th>...</th>\n",
       "      <th>Usage_per_Sleep</th>\n",
       "      <th>Addicted_per_Mental</th>\n",
       "      <th>Conflict_per_Usage</th>\n",
       "      <th>Is_Graduate</th>\n",
       "      <th>Is_Undergraduate</th>\n",
       "      <th>Is_Single</th>\n",
       "      <th>Gender_Academic</th>\n",
       "      <th>Academic_Relationship</th>\n",
       "      <th>Age_Group</th>\n",
       "      <th>Sleep_Low</th>\n",
       "    </tr>\n",
       "  </thead>\n",
       "  <tbody>\n",
       "    <tr>\n",
       "      <th>367</th>\n",
       "      <td>22</td>\n",
       "      <td>Male</td>\n",
       "      <td>Graduate</td>\n",
       "      <td>6.0</td>\n",
       "      <td>Yes</td>\n",
       "      <td>6.2</td>\n",
       "      <td>6</td>\n",
       "      <td>Single</td>\n",
       "      <td>3</td>\n",
       "      <td>7</td>\n",
       "      <td>...</td>\n",
       "      <td>0.967742</td>\n",
       "      <td>1.166667</td>\n",
       "      <td>0.500000</td>\n",
       "      <td>1</td>\n",
       "      <td>0</td>\n",
       "      <td>1</td>\n",
       "      <td>Male_Graduate</td>\n",
       "      <td>Graduate_Single</td>\n",
       "      <td>2</td>\n",
       "      <td>0</td>\n",
       "    </tr>\n",
       "    <tr>\n",
       "      <th>94</th>\n",
       "      <td>23</td>\n",
       "      <td>Male</td>\n",
       "      <td>Graduate</td>\n",
       "      <td>2.4</td>\n",
       "      <td>No</td>\n",
       "      <td>7.4</td>\n",
       "      <td>8</td>\n",
       "      <td>Complicated</td>\n",
       "      <td>1</td>\n",
       "      <td>4</td>\n",
       "      <td>...</td>\n",
       "      <td>0.324324</td>\n",
       "      <td>0.500000</td>\n",
       "      <td>0.416667</td>\n",
       "      <td>1</td>\n",
       "      <td>0</td>\n",
       "      <td>0</td>\n",
       "      <td>Male_Graduate</td>\n",
       "      <td>Graduate_Complicated</td>\n",
       "      <td>2</td>\n",
       "      <td>0</td>\n",
       "    </tr>\n",
       "    <tr>\n",
       "      <th>597</th>\n",
       "      <td>20</td>\n",
       "      <td>Male</td>\n",
       "      <td>Undergraduate</td>\n",
       "      <td>6.4</td>\n",
       "      <td>Yes</td>\n",
       "      <td>6.2</td>\n",
       "      <td>5</td>\n",
       "      <td>Single</td>\n",
       "      <td>4</td>\n",
       "      <td>8</td>\n",
       "      <td>...</td>\n",
       "      <td>1.032258</td>\n",
       "      <td>1.600000</td>\n",
       "      <td>0.625000</td>\n",
       "      <td>0</td>\n",
       "      <td>1</td>\n",
       "      <td>1</td>\n",
       "      <td>Male_Undergraduate</td>\n",
       "      <td>Undergraduate_Single</td>\n",
       "      <td>1</td>\n",
       "      <td>0</td>\n",
       "    </tr>\n",
       "    <tr>\n",
       "      <th>569</th>\n",
       "      <td>21</td>\n",
       "      <td>Male</td>\n",
       "      <td>Graduate</td>\n",
       "      <td>4.2</td>\n",
       "      <td>Yes</td>\n",
       "      <td>8.0</td>\n",
       "      <td>7</td>\n",
       "      <td>Single</td>\n",
       "      <td>3</td>\n",
       "      <td>6</td>\n",
       "      <td>...</td>\n",
       "      <td>0.525000</td>\n",
       "      <td>0.857143</td>\n",
       "      <td>0.714286</td>\n",
       "      <td>1</td>\n",
       "      <td>0</td>\n",
       "      <td>1</td>\n",
       "      <td>Male_Graduate</td>\n",
       "      <td>Graduate_Single</td>\n",
       "      <td>1</td>\n",
       "      <td>0</td>\n",
       "    </tr>\n",
       "    <tr>\n",
       "      <th>551</th>\n",
       "      <td>22</td>\n",
       "      <td>Male</td>\n",
       "      <td>Graduate</td>\n",
       "      <td>4.0</td>\n",
       "      <td>No</td>\n",
       "      <td>8.3</td>\n",
       "      <td>7</td>\n",
       "      <td>In Relationship</td>\n",
       "      <td>2</td>\n",
       "      <td>5</td>\n",
       "      <td>...</td>\n",
       "      <td>0.481928</td>\n",
       "      <td>0.714286</td>\n",
       "      <td>0.500000</td>\n",
       "      <td>1</td>\n",
       "      <td>0</td>\n",
       "      <td>0</td>\n",
       "      <td>Male_Graduate</td>\n",
       "      <td>Graduate_In Relationship</td>\n",
       "      <td>2</td>\n",
       "      <td>0</td>\n",
       "    </tr>\n",
       "    <tr>\n",
       "      <th>...</th>\n",
       "      <td>...</td>\n",
       "      <td>...</td>\n",
       "      <td>...</td>\n",
       "      <td>...</td>\n",
       "      <td>...</td>\n",
       "      <td>...</td>\n",
       "      <td>...</td>\n",
       "      <td>...</td>\n",
       "      <td>...</td>\n",
       "      <td>...</td>\n",
       "      <td>...</td>\n",
       "      <td>...</td>\n",
       "      <td>...</td>\n",
       "      <td>...</td>\n",
       "      <td>...</td>\n",
       "      <td>...</td>\n",
       "      <td>...</td>\n",
       "      <td>...</td>\n",
       "      <td>...</td>\n",
       "      <td>...</td>\n",
       "      <td>...</td>\n",
       "    </tr>\n",
       "    <tr>\n",
       "      <th>514</th>\n",
       "      <td>20</td>\n",
       "      <td>Female</td>\n",
       "      <td>Undergraduate</td>\n",
       "      <td>5.2</td>\n",
       "      <td>Yes</td>\n",
       "      <td>6.9</td>\n",
       "      <td>6</td>\n",
       "      <td>Single</td>\n",
       "      <td>3</td>\n",
       "      <td>7</td>\n",
       "      <td>...</td>\n",
       "      <td>0.753623</td>\n",
       "      <td>1.166667</td>\n",
       "      <td>0.576923</td>\n",
       "      <td>0</td>\n",
       "      <td>1</td>\n",
       "      <td>1</td>\n",
       "      <td>Female_Undergraduate</td>\n",
       "      <td>Undergraduate_Single</td>\n",
       "      <td>1</td>\n",
       "      <td>0</td>\n",
       "    </tr>\n",
       "    <tr>\n",
       "      <th>392</th>\n",
       "      <td>19</td>\n",
       "      <td>Female</td>\n",
       "      <td>Undergraduate</td>\n",
       "      <td>4.2</td>\n",
       "      <td>Yes</td>\n",
       "      <td>7.7</td>\n",
       "      <td>7</td>\n",
       "      <td>Single</td>\n",
       "      <td>3</td>\n",
       "      <td>6</td>\n",
       "      <td>...</td>\n",
       "      <td>0.545455</td>\n",
       "      <td>0.857143</td>\n",
       "      <td>0.714286</td>\n",
       "      <td>0</td>\n",
       "      <td>1</td>\n",
       "      <td>1</td>\n",
       "      <td>Female_Undergraduate</td>\n",
       "      <td>Undergraduate_Single</td>\n",
       "      <td>0</td>\n",
       "      <td>0</td>\n",
       "    </tr>\n",
       "    <tr>\n",
       "      <th>320</th>\n",
       "      <td>19</td>\n",
       "      <td>Female</td>\n",
       "      <td>Undergraduate</td>\n",
       "      <td>5.2</td>\n",
       "      <td>Yes</td>\n",
       "      <td>6.8</td>\n",
       "      <td>6</td>\n",
       "      <td>Single</td>\n",
       "      <td>3</td>\n",
       "      <td>7</td>\n",
       "      <td>...</td>\n",
       "      <td>0.764706</td>\n",
       "      <td>1.166667</td>\n",
       "      <td>0.576923</td>\n",
       "      <td>0</td>\n",
       "      <td>1</td>\n",
       "      <td>1</td>\n",
       "      <td>Female_Undergraduate</td>\n",
       "      <td>Undergraduate_Single</td>\n",
       "      <td>0</td>\n",
       "      <td>0</td>\n",
       "    </tr>\n",
       "    <tr>\n",
       "      <th>404</th>\n",
       "      <td>19</td>\n",
       "      <td>Female</td>\n",
       "      <td>Undergraduate</td>\n",
       "      <td>3.1</td>\n",
       "      <td>No</td>\n",
       "      <td>8.7</td>\n",
       "      <td>8</td>\n",
       "      <td>Single</td>\n",
       "      <td>2</td>\n",
       "      <td>4</td>\n",
       "      <td>...</td>\n",
       "      <td>0.356322</td>\n",
       "      <td>0.500000</td>\n",
       "      <td>0.645161</td>\n",
       "      <td>0</td>\n",
       "      <td>1</td>\n",
       "      <td>1</td>\n",
       "      <td>Female_Undergraduate</td>\n",
       "      <td>Undergraduate_Single</td>\n",
       "      <td>0</td>\n",
       "      <td>0</td>\n",
       "    </tr>\n",
       "    <tr>\n",
       "      <th>190</th>\n",
       "      <td>20</td>\n",
       "      <td>Female</td>\n",
       "      <td>Undergraduate</td>\n",
       "      <td>4.5</td>\n",
       "      <td>Yes</td>\n",
       "      <td>7.2</td>\n",
       "      <td>5</td>\n",
       "      <td>Single</td>\n",
       "      <td>3</td>\n",
       "      <td>7</td>\n",
       "      <td>...</td>\n",
       "      <td>0.625000</td>\n",
       "      <td>1.400000</td>\n",
       "      <td>0.666667</td>\n",
       "      <td>0</td>\n",
       "      <td>1</td>\n",
       "      <td>1</td>\n",
       "      <td>Female_Undergraduate</td>\n",
       "      <td>Undergraduate_Single</td>\n",
       "      <td>1</td>\n",
       "      <td>0</td>\n",
       "    </tr>\n",
       "  </tbody>\n",
       "</table>\n",
       "<p>141 rows × 21 columns</p>\n",
       "</div>"
      ],
      "text/plain": [
       "     Age  Gender Academic_Level  Avg_Daily_Usage_Hours  \\\n",
       "367   22    Male       Graduate                    6.0   \n",
       "94    23    Male       Graduate                    2.4   \n",
       "597   20    Male  Undergraduate                    6.4   \n",
       "569   21    Male       Graduate                    4.2   \n",
       "551   22    Male       Graduate                    4.0   \n",
       "..   ...     ...            ...                    ...   \n",
       "514   20  Female  Undergraduate                    5.2   \n",
       "392   19  Female  Undergraduate                    4.2   \n",
       "320   19  Female  Undergraduate                    5.2   \n",
       "404   19  Female  Undergraduate                    3.1   \n",
       "190   20  Female  Undergraduate                    4.5   \n",
       "\n",
       "    Affects_Academic_Performance  Sleep_Hours_Per_Night  Mental_Health_Score  \\\n",
       "367                          Yes                    6.2                    6   \n",
       "94                            No                    7.4                    8   \n",
       "597                          Yes                    6.2                    5   \n",
       "569                          Yes                    8.0                    7   \n",
       "551                           No                    8.3                    7   \n",
       "..                           ...                    ...                  ...   \n",
       "514                          Yes                    6.9                    6   \n",
       "392                          Yes                    7.7                    7   \n",
       "320                          Yes                    6.8                    6   \n",
       "404                           No                    8.7                    8   \n",
       "190                          Yes                    7.2                    5   \n",
       "\n",
       "    Relationship_Status  Conflicts_Over_Social_Media  Addicted_Score  ...  \\\n",
       "367              Single                            3               7  ...   \n",
       "94          Complicated                            1               4  ...   \n",
       "597              Single                            4               8  ...   \n",
       "569              Single                            3               6  ...   \n",
       "551     In Relationship                            2               5  ...   \n",
       "..                  ...                          ...             ...  ...   \n",
       "514              Single                            3               7  ...   \n",
       "392              Single                            3               6  ...   \n",
       "320              Single                            3               7  ...   \n",
       "404              Single                            2               4  ...   \n",
       "190              Single                            3               7  ...   \n",
       "\n",
       "     Usage_per_Sleep  Addicted_per_Mental  Conflict_per_Usage  Is_Graduate  \\\n",
       "367         0.967742             1.166667            0.500000            1   \n",
       "94          0.324324             0.500000            0.416667            1   \n",
       "597         1.032258             1.600000            0.625000            0   \n",
       "569         0.525000             0.857143            0.714286            1   \n",
       "551         0.481928             0.714286            0.500000            1   \n",
       "..               ...                  ...                 ...          ...   \n",
       "514         0.753623             1.166667            0.576923            0   \n",
       "392         0.545455             0.857143            0.714286            0   \n",
       "320         0.764706             1.166667            0.576923            0   \n",
       "404         0.356322             0.500000            0.645161            0   \n",
       "190         0.625000             1.400000            0.666667            0   \n",
       "\n",
       "     Is_Undergraduate  Is_Single       Gender_Academic  \\\n",
       "367                 0          1         Male_Graduate   \n",
       "94                  0          0         Male_Graduate   \n",
       "597                 1          1    Male_Undergraduate   \n",
       "569                 0          1         Male_Graduate   \n",
       "551                 0          0         Male_Graduate   \n",
       "..                ...        ...                   ...   \n",
       "514                 1          1  Female_Undergraduate   \n",
       "392                 1          1  Female_Undergraduate   \n",
       "320                 1          1  Female_Undergraduate   \n",
       "404                 1          1  Female_Undergraduate   \n",
       "190                 1          1  Female_Undergraduate   \n",
       "\n",
       "        Academic_Relationship Age_Group  Sleep_Low  \n",
       "367           Graduate_Single         2          0  \n",
       "94       Graduate_Complicated         2          0  \n",
       "597      Undergraduate_Single         1          0  \n",
       "569           Graduate_Single         1          0  \n",
       "551  Graduate_In Relationship         2          0  \n",
       "..                        ...       ...        ...  \n",
       "514      Undergraduate_Single         1          0  \n",
       "392      Undergraduate_Single         0          0  \n",
       "320      Undergraduate_Single         0          0  \n",
       "404      Undergraduate_Single         0          0  \n",
       "190      Undergraduate_Single         1          0  \n",
       "\n",
       "[141 rows x 21 columns]"
      ]
     },
     "execution_count": 17,
     "metadata": {},
     "output_type": "execute_result"
    }
   ],
   "source": [
    "X_test"
   ]
  },
  {
   "cell_type": "code",
   "execution_count": 18,
   "metadata": {
    "id": "JMLKLp4a-Nf2"
   },
   "outputs": [],
   "source": [
    "cat_features = [\n",
    "    'Gender', 'Academic_Level', 'Affects_Academic_Performance',\n",
    "    'Relationship_Status', 'Gender_Academic', 'Academic_Relationship'\n",
    "]"
   ]
  },
  {
   "cell_type": "code",
   "execution_count": 19,
   "metadata": {
    "colab": {
     "base_uri": "https://localhost:8080/"
    },
    "id": "uqIIuyoP-eNI",
    "outputId": "63673a3a-b9d7-4d4d-beab-f469d8e2453f"
   },
   "outputs": [
    {
     "data": {
      "text/plain": [
       "['Gender',\n",
       " 'Academic_Level',\n",
       " 'Affects_Academic_Performance',\n",
       " 'Relationship_Status',\n",
       " 'Gender_Academic',\n",
       " 'Academic_Relationship']"
      ]
     },
     "execution_count": 19,
     "metadata": {},
     "output_type": "execute_result"
    }
   ],
   "source": [
    "cat_features"
   ]
  },
  {
   "cell_type": "code",
   "execution_count": 20,
   "metadata": {
    "id": "7f77b595"
   },
   "outputs": [
    {
     "ename": "ModuleNotFoundError",
     "evalue": "No module named 'catboost'",
     "output_type": "error",
     "traceback": [
      "\u001b[1;31m---------------------------------------------------------------------------\u001b[0m",
      "\u001b[1;31mModuleNotFoundError\u001b[0m                       Traceback (most recent call last)",
      "Cell \u001b[1;32mIn[20], line 2\u001b[0m\n\u001b[0;32m      1\u001b[0m \u001b[38;5;28;01mfrom\u001b[39;00m \u001b[38;5;21;01msklearn\u001b[39;00m\u001b[38;5;21;01m.\u001b[39;00m\u001b[38;5;21;01mmetrics\u001b[39;00m \u001b[38;5;28;01mimport\u001b[39;00m classification_report, accuracy_score, f1_score, confusion_matrix\n\u001b[1;32m----> 2\u001b[0m \u001b[38;5;28;01mfrom\u001b[39;00m \u001b[38;5;21;01mcatboost\u001b[39;00m \u001b[38;5;28;01mimport\u001b[39;00m CatBoostClassifier, Pool\n",
      "\u001b[1;31mModuleNotFoundError\u001b[0m: No module named 'catboost'"
     ]
    }
   ],
   "source": [
    "from sklearn.metrics import classification_report, accuracy_score, f1_score, confusion_matrix\n",
    "from catboost import CatBoostClassifier, Pool"
   ]
  },
  {
   "cell_type": "code",
   "execution_count": null,
   "metadata": {
    "id": "I4cw0qG9_nv6"
   },
   "outputs": [],
   "source": [
    "from sklearn.utils.class_weight import compute_class_weight"
   ]
  },
  {
   "cell_type": "code",
   "execution_count": null,
   "metadata": {
    "id": "cnk4_K-6_rVo"
   },
   "outputs": [],
   "source": [
    "classes = np.unique(y_train_resampled)\n",
    "weights = compute_class_weight(class_weight='balanced', classes=classes, y=y_train_resampled)\n",
    "weights_dict = dict(zip(classes, weights))"
   ]
  },
  {
   "cell_type": "code",
   "execution_count": null,
   "metadata": {
    "colab": {
     "base_uri": "https://localhost:8080/"
    },
    "id": "1_zffhdG_rFp",
    "outputId": "ffa562ce-0e85-4801-d19d-8e5e44413901"
   },
   "outputs": [],
   "source": [
    "ordered_weights = [weights_dict[c] for c in classes]\n",
    "ordered_weights"
   ]
  },
  {
   "cell_type": "code",
   "execution_count": null,
   "metadata": {
    "id": "Q9umBohv_RKP"
   },
   "outputs": [],
   "source": [
    "model = CatBoostClassifier(\n",
    "    iterations=500,\n",
    "    learning_rate=0.05,\n",
    "    depth=6,\n",
    "    class_weights=ordered_weights,\n",
    "    random_state=42,\n",
    "    verbose=100\n",
    ")"
   ]
  },
  {
   "cell_type": "code",
   "execution_count": null,
   "metadata": {
    "colab": {
     "base_uri": "https://localhost:8080/"
    },
    "id": "ApoKDcDG-r99",
    "outputId": "84fa9895-99f1-4ab4-9904-f73e4a36b4ff"
   },
   "outputs": [],
   "source": [
    "model.fit(X_train_resampled, y_train_resampled, cat_features=cat_features)"
   ]
  },
  {
   "cell_type": "code",
   "execution_count": null,
   "metadata": {
    "colab": {
     "base_uri": "https://localhost:8080/"
    },
    "id": "sELsoa8j_c0Q",
    "outputId": "247850be-aba8-4302-f77e-c2ff514c78d1"
   },
   "outputs": [],
   "source": [
    "y_pred = model.predict(X_test)\n",
    "\n",
    "print(\"\\n=== Classification Report ===\")\n",
    "print(classification_report(y_test, y_pred))\n",
    "\n",
    "acc = accuracy_score(y_test, y_pred)\n",
    "f1 = f1_score(y_test, y_pred, average='macro')\n",
    "print(f\"Accuracy: {acc:.4f}\")\n",
    "print(f\"Macro-F1 Score: {f1:.4f}\")"
   ]
  },
  {
   "cell_type": "code",
   "execution_count": null,
   "metadata": {
    "colab": {
     "base_uri": "https://localhost:8080/",
     "height": 775
    },
    "id": "hb7IDywRANmE",
    "outputId": "4ce00970-fae4-48f7-e275-986b0ad69000"
   },
   "outputs": [],
   "source": [
    "plt.figure(figsize=(10,8))\n",
    "cm = confusion_matrix(y_test, y_pred, labels=model.classes_)\n",
    "sns.heatmap(cm, annot=True, fmt='d', cmap='Blues',\n",
    "            xticklabels=model.classes_, yticklabels=model.classes_)\n",
    "plt.xlabel('Predicted')\n",
    "plt.ylabel('True')\n",
    "plt.title('Confusion Matrix')\n",
    "plt.show()"
   ]
  },
  {
   "cell_type": "code",
   "execution_count": null,
   "metadata": {
    "colab": {
     "base_uri": "https://localhost:8080/",
     "height": 444
    },
    "id": "rozQ-zigASZz",
    "outputId": "dade3e3a-8372-411b-f039-5181ff913c36"
   },
   "outputs": [],
   "source": [
    "df"
   ]
  },
  {
   "cell_type": "code",
   "execution_count": null,
   "metadata": {
    "id": "QnZt9pGVBJgt"
   },
   "outputs": [],
   "source": [
    "from sklearn.model_selection import GridSearchCV, StratifiedKFold\n"
   ]
  },
  {
   "cell_type": "code",
   "execution_count": null,
   "metadata": {
    "id": "w4Ows-4aBf-y"
   },
   "outputs": [],
   "source": [
    "param_grid = {\n",
    "    'depth': [4, 6, 8],\n",
    "    'learning_rate': [0.01, 0.05, 0.1],\n",
    "    'iterations': [300, 500, 800],\n",
    "    'l2_leaf_reg': [1, 3, 5]\n",
    "}"
   ]
  },
  {
   "cell_type": "code",
   "execution_count": null,
   "metadata": {
    "id": "DcThYGGYBlRD"
   },
   "outputs": [],
   "source": [
    "model = CatBoostClassifier(\n",
    "    random_state=42,\n",
    "    verbose=0\n",
    ")"
   ]
  },
  {
   "cell_type": "code",
   "execution_count": null,
   "metadata": {
    "id": "Mmh2Ll9NBopS"
   },
   "outputs": [],
   "source": [
    "cv = StratifiedKFold(n_splits=3, shuffle=True, random_state=42)"
   ]
  },
  {
   "cell_type": "code",
   "execution_count": null,
   "metadata": {
    "id": "6fMrsuq3BrD8"
   },
   "outputs": [],
   "source": [
    "grid_search = GridSearchCV(\n",
    "    estimator=model,\n",
    "    param_grid=param_grid,\n",
    "    cv=cv,\n",
    "    scoring='f1_macro',   # Karena multiclass imbalance, pakai macro-F1\n",
    "    verbose=2,\n",
    "    n_jobs=-1             # Gunakan semua core CPU\n",
    ")"
   ]
  },
  {
   "cell_type": "code",
   "execution_count": null,
   "metadata": {
    "colab": {
     "base_uri": "https://localhost:8080/"
    },
    "id": "B4uOvCXhBtQt",
    "outputId": "e816e2f0-c628-402b-8cb9-456a21a3a1ed"
   },
   "outputs": [],
   "source": [
    "grid_search.fit(\n",
    "    X_train_resampled, y_train_resampled,\n",
    "    cat_features=cat_features\n",
    ")"
   ]
  },
  {
   "cell_type": "code",
   "execution_count": null,
   "metadata": {
    "id": "SSjCefblBu1P"
   },
   "outputs": [],
   "source": [
    "print(\"\\n✅ Best params:\", grid_search.best_params_)\n",
    "print(f\"✅ Best macro-F1 score (cv): {grid_search.best_score_:.4f}\")"
   ]
  }
 ],
 "metadata": {
  "colab": {
   "provenance": []
  },
  "kaggle": {
   "accelerator": "none",
   "dataSources": [
    {
     "datasetId": 7381156,
     "sourceId": 11760664,
     "sourceType": "datasetVersion"
    }
   ],
   "dockerImageVersionId": 31089,
   "isGpuEnabled": false,
   "isInternetEnabled": false,
   "language": "python",
   "sourceType": "notebook"
  },
  "kernelspec": {
   "display_name": "Python 3 (ipykernel)",
   "language": "python",
   "name": "python3"
  },
  "language_info": {
   "codemirror_mode": {
    "name": "ipython",
    "version": 3
   },
   "file_extension": ".py",
   "mimetype": "text/x-python",
   "name": "python",
   "nbconvert_exporter": "python",
   "pygments_lexer": "ipython3",
   "version": "3.12.7"
  }
 },
 "nbformat": 4,
 "nbformat_minor": 4
}
