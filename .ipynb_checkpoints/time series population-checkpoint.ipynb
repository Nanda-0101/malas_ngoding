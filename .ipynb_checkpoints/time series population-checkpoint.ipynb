{
 "cells": [
  {
   "cell_type": "code",
   "execution_count": null,
   "id": "13e0db30-56ef-47b9-a8c4-1fa2fea8157e",
   "metadata": {},
   "outputs": [],
   "source": [
    "import pandas as pd\n",
    "df = pd.read_csv(\"POP.csv\")"
   ]
  },
  {
   "cell_type": "code",
   "execution_count": null,
   "id": "757ccc78-092e-4d92-a165-eba343491e16",
   "metadata": {},
   "outputs": [],
   "source": [
    "df"
   ]
  },
  {
   "cell_type": "code",
   "execution_count": null,
   "id": "5fa42261-06dc-4c74-b80e-0e55f6f0896d",
   "metadata": {},
   "outputs": [],
   "source": [
    "df['date'] = pd.to_datetime(df['date'])"
   ]
  },
  {
   "cell_type": "code",
   "execution_count": null,
   "id": "29444c5e-7562-412e-a6e7-ac1809a15417",
   "metadata": {},
   "outputs": [],
   "source": [
    "df = df.sort_values('date').reset_index(drop=True)\n"
   ]
  },
  {
   "cell_type": "code",
   "execution_count": null,
   "id": "d6282262-016c-4320-867d-e17924b3cc4f",
   "metadata": {},
   "outputs": [],
   "source": [
    "df.set_index('date', inplace=True)"
   ]
  },
  {
   "cell_type": "code",
   "execution_count": null,
   "id": "593c4d50-b67f-446f-8366-5e36ca40b829",
   "metadata": {},
   "outputs": [],
   "source": [
    "print(\"Jumlah missing value tiap kolom:\\n\", df.isnull().sum())"
   ]
  },
  {
   "cell_type": "code",
   "execution_count": null,
   "id": "690c2a9c-a313-4c09-a04a-c8b30a2b7f52",
   "metadata": {},
   "outputs": [],
   "source": [
    "duplicates = df.duplicated()\n",
    "print(f\"Jumlah baris duplikat: {duplicates.sum()}\")"
   ]
  },
  {
   "cell_type": "code",
   "execution_count": null,
   "id": "e5d79856-ac7f-410b-bd3b-5ab72da7f191",
   "metadata": {},
   "outputs": [],
   "source": [
    "import numpy as np"
   ]
  },
  {
   "cell_type": "code",
   "execution_count": null,
   "id": "ccfc921b-aafc-4d8b-8d56-1b7fac5e7adc",
   "metadata": {},
   "outputs": [],
   "source": [
    "threshold = 3\n",
    "mean_val = df['value'].mean()\n",
    "std_val = df['value'].std()\n",
    "df['z_score'] = (df['value'] - mean_val) / std_val"
   ]
  },
  {
   "cell_type": "code",
   "execution_count": null,
   "id": "9731e6da-4b6b-416b-b343-7776ddcba159",
   "metadata": {},
   "outputs": [],
   "source": [
    "df['outlier'] = df['z_score'].abs() > threshold\n",
    "print(f\"Jumlah outlier terdeteksi: {df['outlier'].sum()}\")"
   ]
  },
  {
   "cell_type": "code",
   "execution_count": null,
   "id": "4c1e19b1-bedc-41ee-a6a2-5a4ef239cb8e",
   "metadata": {},
   "outputs": [],
   "source": [
    "import matplotlib.pyplot as plt\n",
    "import seaborn as sns"
   ]
  },
  {
   "cell_type": "code",
   "execution_count": null,
   "id": "31e0b3ea-1162-4a9e-b50c-5d57c4b8c204",
   "metadata": {},
   "outputs": [],
   "source": [
    "plt.figure(figsize=(12, 5))\n",
    "plt.plot(df.index, df['value'], label='Value')\n",
    "plt.scatter(df.index[df['outlier']], df.loc[df['outlier'], 'value'], color='red', label='Outlier')\n",
    "plt.title('Outlier Detection')\n",
    "plt.legend()\n",
    "plt.show()"
   ]
  },
  {
   "cell_type": "code",
   "execution_count": null,
   "id": "f6de3a4d-645f-4a44-b506-f3c6a500a7ff",
   "metadata": {},
   "outputs": [],
   "source": [
    "plt.figure(figsize=(8, 4))\n",
    "plt.hist(df['value'], bins=30, color='skyblue')\n",
    "plt.title('Histogram Value')\n",
    "plt.xlabel('Value')\n",
    "plt.ylabel('Frekuensi')\n",
    "plt.show()"
   ]
  },
  {
   "cell_type": "code",
   "execution_count": null,
   "id": "84cbeb29-034e-4a77-ad6a-f62879abbe97",
   "metadata": {},
   "outputs": [],
   "source": [
    "df['year'] = df.index.year\n",
    "yearly_mean = df.groupby('year')['value'].mean()\n",
    "\n",
    "plt.figure(figsize=(12, 4))\n",
    "yearly_mean.plot()\n",
    "plt.title('Rata-rata Value per Tahun')\n",
    "plt.ylabel('Mean Value')\n",
    "plt.show()"
   ]
  },
  {
   "cell_type": "code",
   "execution_count": null,
   "id": "c418e94e-aa6d-4b4b-8959-f5c0a9852caf",
   "metadata": {},
   "outputs": [],
   "source": [
    "rolling_mean = df['value'].rolling(window=12).mean()\n",
    "rolling_std = df['value'].rolling(window=12).std()\n",
    "\n",
    "plt.figure(figsize=(12,5))\n",
    "plt.plot(df['value'], color='blue', label='Original')\n",
    "plt.plot(rolling_mean, color='red', label='Rolling Mean')\n",
    "plt.plot(rolling_std, color='black', label='Rolling Std')\n",
    "plt.title('Rolling Mean & Std')\n",
    "plt.legend()\n",
    "plt.show()"
   ]
  },
  {
   "cell_type": "code",
   "execution_count": null,
   "id": "8ef8ee6c-796e-488c-82f6-9db76eb381f4",
   "metadata": {},
   "outputs": [],
   "source": [
    "from sklearn.preprocessing import StandardScaler\n",
    "from statsmodels.tsa.statespace.sarimax import SARIMAX\n",
    "from sklearn.metrics import mean_absolute_error\n",
    "import warnings\n",
    "warnings.filterwarnings('ignore')"
   ]
  },
  {
   "cell_type": "code",
   "execution_count": null,
   "id": "13520fa9-0c32-4789-9338-8b689c4ee9d2",
   "metadata": {},
   "outputs": [],
   "source": [
    "df['log_value'] = np.log(df['value'])\n",
    "df['log_diff_seasonal'] = df['log_value'].diff(12)\n",
    "df['log_diff_seasonal_diff'] = df['log_diff_seasonal'].diff()"
   ]
  },
  {
   "cell_type": "code",
   "execution_count": null,
   "id": "3fc50ce3-fe28-4f51-832a-4eb193e28efd",
   "metadata": {},
   "outputs": [],
   "source": [
    "df_feat = df.dropna(subset=['log_diff_seasonal_diff']).copy()"
   ]
  },
  {
   "cell_type": "code",
   "execution_count": null,
   "id": "4d0e3ff0-a7c1-499f-806c-ffd588bbb2dc",
   "metadata": {},
   "outputs": [],
   "source": [
    "df_feat['month'] = df_feat.index.month\n",
    "df_feat['lag_1'] = df_feat['log_diff_seasonal_diff'].shift(1)\n",
    "df_feat['rolling_mean_3'] = df_feat['log_diff_seasonal_diff'].shift(1).rolling(3).mean()"
   ]
  },
  {
   "cell_type": "code",
   "execution_count": null,
   "id": "b8476e33-5482-4737-b370-9a3f9cac5152",
   "metadata": {},
   "outputs": [],
   "source": [
    "df_feat = df_feat.dropna(subset=['lag_1', 'rolling_mean_3'])"
   ]
  },
  {
   "cell_type": "code",
   "execution_count": null,
   "id": "e265a7d5-d75e-4a52-918d-ee86120f4cbc",
   "metadata": {},
   "outputs": [],
   "source": [
    "train = df_feat.loc[:'2018-12-01']\n",
    "test = df_feat.loc['2019-01-01':]"
   ]
  },
  {
   "cell_type": "code",
   "execution_count": null,
   "id": "90a953a4-dda5-4530-bb0a-b35a0717a529",
   "metadata": {},
   "outputs": [],
   "source": [
    "target_col = 'log_diff_seasonal_diff'\n",
    "exog_cols = ['month', 'lag_1', 'rolling_mean_3']"
   ]
  },
  {
   "cell_type": "code",
   "execution_count": null,
   "id": "fb5df20d-9642-4c52-a2b2-c73ba5b5aaeb",
   "metadata": {},
   "outputs": [],
   "source": [
    "train_y = train[target_col]\n",
    "test_y = test[target_col]"
   ]
  },
  {
   "cell_type": "code",
   "execution_count": null,
   "id": "6c702c95-bf2d-4b4b-899a-05ca4deb3c94",
   "metadata": {},
   "outputs": [],
   "source": [
    "train_exog = train[exog_cols]\n",
    "test_exog = test[exog_cols]"
   ]
  },
  {
   "cell_type": "code",
   "execution_count": null,
   "id": "df176454-6243-40d4-9957-0e60ee45b399",
   "metadata": {},
   "outputs": [],
   "source": [
    "import itertools\n",
    "from statsmodels.tsa.statespace.sarimax import SARIMAX\n",
    "from sklearn.metrics import mean_absolute_error"
   ]
  },
  {
   "cell_type": "code",
   "execution_count": null,
   "id": "bace21c9-bb51-4b44-a8e6-5f012bf820c1",
   "metadata": {},
   "outputs": [],
   "source": [
    "p = q = P = Q = range(0, 2)\n",
    "d, D, s = 1, 1, 12\n",
    "\n",
    "best_mae = np.inf\n",
    "best_order = None\n",
    "best_seasonal_order = None\n",
    "\n",
    "for order in itertools.product(p, [d], q):\n",
    "    for seasonal in itertools.product(P, [D], Q):\n",
    "        seasonal_order = (seasonal[0], D, seasonal[1], s)\n",
    "        try:\n",
    "            model = SARIMAX(train_y, exog=train_exog, \n",
    "                            order=order, seasonal_order=seasonal_order,\n",
    "                            enforce_stationarity=False, enforce_invertibility=False)\n",
    "            result = model.fit(disp=False)\n",
    "            mae = mean_absolute_error(train_y, result.fittedvalues)\n",
    "            if mae < best_mae:\n",
    "                best_mae = mae\n",
    "                best_order = order\n",
    "                best_seasonal_order = seasonal_order\n",
    "        except:\n",
    "            continue\n",
    "\n",
    "print(\"\\n✅ Best params:\")\n",
    "print(f\" - order: {best_order}\")\n",
    "print(f\" - seasonal_order: {best_seasonal_order}\")"
   ]
  },
  {
   "cell_type": "code",
   "execution_count": null,
   "id": "2b019942-843b-4248-9661-8d54ac0b1db6",
   "metadata": {},
   "outputs": [],
   "source": [
    "final_model = SARIMAX(train_y, exog=train_exog, \n",
    "                      order=best_order, seasonal_order=best_seasonal_order,\n",
    "                      enforce_stationarity=False, enforce_invertibility=False)\n",
    "final_result = final_model.fit(disp=False)\n",
    "\n"
   ]
  },
  {
   "cell_type": "code",
   "execution_count": null,
   "id": "929c74d4-6725-4311-a4e4-4c44d2ac42f1",
   "metadata": {},
   "outputs": [],
   "source": [
    "forecast_log_diff = final_result.forecast(steps=len(test), exog=test_exog)"
   ]
  },
  {
   "cell_type": "code",
   "execution_count": null,
   "id": "4ae0bd9b-30fc-435f-808d-5e3ea60e1118",
   "metadata": {},
   "outputs": [],
   "source": [
    "test = test.copy()\n",
    "test['forecast_log_diff'] = forecast_log_diff.values"
   ]
  },
  {
   "cell_type": "code",
   "execution_count": null,
   "id": "93556e43-6311-4402-a704-4e297cce9bcb",
   "metadata": {},
   "outputs": [],
   "source": [
    "history_log = list(train['log_value'][-12:])  # ambil 12 terakhir dari train\n",
    "predicted_log_values = []"
   ]
  },
  {
   "cell_type": "code",
   "execution_count": null,
   "id": "c8b67c44-a46c-4061-8e3a-7d6f3f9ff4e1",
   "metadata": {},
   "outputs": [],
   "source": [
    "for i in range(len(test)):\n",
    "    # Seasonal lag\n",
    "    seasonal_lag = history_log[i] - history_log[i - 12]\n",
    "    pred = test['forecast_log_diff'].iloc[i] + history_log[-1] + seasonal_lag\n",
    "    predicted_log_values.append(pred)\n",
    "    history_log.append(pred)  # update history"
   ]
  },
  {
   "cell_type": "code",
   "execution_count": null,
   "id": "3427009c-2e35-4cf4-9440-6dcd39ab9b23",
   "metadata": {},
   "outputs": [],
   "source": [
    "predicted_values = np.exp(predicted_log_values)\n"
   ]
  },
  {
   "cell_type": "code",
   "execution_count": null,
   "id": "3ef73623-9493-455c-85b6-11a92e4e06f6",
   "metadata": {},
   "outputs": [],
   "source": [
    "actual_values = np.exp(test['log_value'].values)\n"
   ]
  },
  {
   "cell_type": "code",
   "execution_count": null,
   "id": "76adf05b-c5ab-43d2-9f89-d18dc67642ac",
   "metadata": {},
   "outputs": [],
   "source": [
    "from sklearn.metrics import mean_squared_error, r2_score"
   ]
  },
  {
   "cell_type": "code",
   "execution_count": null,
   "id": "c1d4f3e8-25e2-4c0a-9c0d-6208f4299cad",
   "metadata": {},
   "outputs": [],
   "source": [
    "mae = mean_absolute_error(actual_values, predicted_values)\n",
    "rmse = np.sqrt(mean_squared_error(actual_values, predicted_values))\n",
    "mape = np.mean(np.abs((actual_values - predicted_values) / actual_values)) * 100\n",
    "r2 = r2_score(actual_values, predicted_values)\n",
    "\n",
    "print(\"\\n📊 📍 Evaluasi Test Set (skala asli):\")\n",
    "print(f\" - MAE  : {mae:.2f}\")\n",
    "print(f\" - RMSE : {rmse:.2f}\")\n",
    "print(f\" - MAPE : {mape:.2f}%\")\n",
    "print(f\" - R²   : {r2:.4f}\")\n",
    "\n",
    "# Hasil prediksi\n",
    "df_result = pd.DataFrame({\n",
    "    'actual': actual_values,\n",
    "    'forecast': predicted_values\n",
    "}, index=test.index)\n",
    "print(\"\\n✅ Hasil prediksi (5 data teratas):\")\n",
    "print(df_result.head())"
   ]
  },
  {
   "cell_type": "code",
   "execution_count": null,
   "id": "796fde8e-1d93-4d28-9a43-2bb92d3a0f6b",
   "metadata": {},
   "outputs": [],
   "source": [
    "df"
   ]
  }
 ],
 "metadata": {
  "kernelspec": {
   "display_name": "Python 3 (ipykernel)",
   "language": "python",
   "name": "python3"
  },
  "language_info": {
   "codemirror_mode": {
    "name": "ipython",
    "version": 3
   },
   "file_extension": ".py",
   "mimetype": "text/x-python",
   "name": "python",
   "nbconvert_exporter": "python",
   "pygments_lexer": "ipython3",
   "version": "3.11.8"
  }
 },
 "nbformat": 4,
 "nbformat_minor": 5
}
