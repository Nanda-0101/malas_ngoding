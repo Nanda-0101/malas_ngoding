import pandas as pd
import numpy as np
from sklearn.model_selection import train_test_split
from sklearn.preprocessing import LabelEncoder
from sklearn.feature_extraction.text import TfidfVectorizer
from xgboost import XGBClassifier
from sklearn.metrics import accuracy_score, classification_report, confusion_matrix
import matplotlib.pyplot as plt
from wordcloud import WordCloud
import seaborn as sns
import re


df = pd.read_csv('data_science_job.csv', 
                 encoding='latin1')


df


print(df.shape)
print(df.info())
print(df.describe(include='all'))
print(df.isnull().sum())


# Strip whitespace dari kolom string
str_cols = df.select_dtypes(include='object').columns
df[str_cols] = df[str_cols].apply(lambda col: col.str.strip())

# Bersihkan kolom Salary: buang simbol, konversi ke numerik (ambil nilai minimum)
df['Salary_clean'] = df['Salary'].apply(lambda x: float(re.findall(r'\d+', x.replace(',', ''))[0]) if pd.notnull(x) else np.nan)

# Ubah Experience level jadi lowercase & standardize
df['Experience level'] = df['Experience level'].str.lower().str.strip()

# Isi missing Experience level dengan 'unknown'
df['Experience level'] = df['Experience level'].fillna('unknown')


print(df.shape)
print(df.info())
print(df.describe(include='all'))
print(df.isnull().sum())


print(df.describe(include=[np.number]))
print(df.describe(include=[object]))


df['Facilities_list'] = df['Facilities'].apply(lambda x: [f.strip() for f in str(x).split(',') if f.strip()])
df['Country'] = df['Location'].apply(lambda x: x.split(',')[-1].strip() if pd.notnull(x) else 'unknown')


df['Num_facilities'] = df['Facilities_list'].apply(len)
df


plt.figure(figsize=(6,4))
sns.countplot(x='Num_facilities', data=df, order=sorted(df['Num_facilities'].unique()))
plt.title('Jumlah Fasilitas per Lowongan')
plt.show()


top_countries = df['Country'].value_counts().head(10)

plt.figure(figsize=(8,4))
sns.barplot(y=top_countries.index, x=top_countries.values)
plt.title('Top 10 Negara dengan Lowongan Terbanyak')
plt.xlabel('Jumlah Lowongan')
plt.show()


plt.figure(figsize=(8,4))
sns.boxplot(x='Experience level', y='Salary_clean', data=df)
plt.title('Distribusi Gaji berdasarkan Experience Level')
plt.show()


all_reqs = ' '.join(df['Requirment of the company '].dropna().astype(str))
wordcloud = WordCloud(width=800, height=400, background_color='white').generate(all_reqs)

plt.figure(figsize=(10,6))
plt.imshow(wordcloud, interpolation='bilinear')
plt.axis('off')
plt.title('WordCloud Requirment of the company')
plt.show()


top_jobs = df['Job Title'].value_counts().head(10)

plt.figure(figsize=(8,4))
sns.barplot(y=top_jobs.index, x=top_jobs.values)
plt.title('Top 10 Job Title Paling Banyak Dibuka')
plt.xlabel('Jumlah Lowongan')
plt.show()


df = df[df['Experience level'] != 'unknown']
df['Experience level'] = df['Experience level'].str.lower().str.strip()
df


df['Country'] = df['Location'].apply(lambda x: x.split(',')[-1].strip() if pd.notnull(x) else 'unknown')
df['Num_facilities'] = df['Facilities'].apply(lambda x: len([f for f in str(x).split(',') if f.strip()]))
df


df['Salary_clean'] = df['Salary_clean'].fillna(df['Salary_clean'].median())
df



