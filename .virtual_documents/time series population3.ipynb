import pandas as pd
import numpy as np
from pmdarima import auto_arima
from statsmodels.tsa.statespace.sarimax import SARIMAX
from sklearn.metrics import mean_absolute_error, mean_squared_error, r2_score
import matplotlib.pyplot as plt


df = pd.read_csv('POP.csv')


np.random.seed(42)
df['cpi'] = 100 + np.random.randn(len(df)).cumsum() * 0.1  


df['date'] = pd.to_datetime(df['date'])
df = df.sort_values('date')


train_size = int(len(df) * 0.8)
train, test = df.iloc[:train_size], df.iloc[train_size:]


exog_train = train[['cpi']]
exog_test = test[['cpi']]

stepwise_model = auto_arima(
    train['value'],
    exogenous=exog_train,
    seasonal=True,
    m=12,
    start_p=0, start_q=0, max_p=5, max_q=5,
    start_P=0, start_Q=0, max_P=3, max_Q=3,
    max_d=2, max_D=2,
    trace=True,
    error_action='ignore',
    suppress_warnings=True,
    stepwise=True
)

print(f"Best SARIMAX order: {stepwise_model.order} seasonal_order: {stepwise_model.seasonal_order}")


model = SARIMAX(
    train['value'],
    exog=exog_train,
    order=stepwise_model.order,
    seasonal_order=stepwise_model.seasonal_order,
    enforce_stationarity=False,
    enforce_invertibility=False
)
model_fit = model.fit(disp=False)


forecast = model_fit.predict(
    start=len(train),
    end=len(train)+len(test)-1,
    exog=exog_test
)


mae = mean_absolute_error(test['value'], forecast)
rmse = np.sqrt(mean_squared_error(test['value'], forecast))
mape = np.mean(np.abs((test['value'] - forecast) / test['value'])) * 100
r2 = r2_score(test['value'], forecast)

print(f"SARIMAX with exog -> MAE: {mae:.2f}, MAPE: {mape:.2f}%, RMSE: {rmse:.2f}, R²: {r2:.4f}")


plt.figure(figsize=(12,6))
plt.plot(train['date'], train['value'], label='Train')
plt.plot(test['date'], test['value'], label='Test', color='orange')
plt.plot(test['date'], forecast, label='Forecast (SARIMAX)', color='green')
plt.title('SARIMAX Forecast with Exogenous Variable')
plt.xlabel('Date')
plt.ylabel('Value')
plt.legend()
plt.show()



