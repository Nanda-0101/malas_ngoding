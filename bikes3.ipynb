{
 "cells": [
  {
   "cell_type": "code",
   "execution_count": 1,
   "id": "955501be-dee9-4f1b-b6ed-22556ac34e98",
   "metadata": {},
   "outputs": [],
   "source": [
    "import pandas as pd\n",
    "import numpy as np\n",
    "import matplotlib.pyplot as plt\n",
    "import seaborn as sns"
   ]
  },
  {
   "cell_type": "code",
   "execution_count": 2,
   "id": "7157ec3f-0ea9-4759-be6c-73a0df575160",
   "metadata": {},
   "outputs": [
    {
     "data": {
      "text/html": [
       "<div>\n",
       "<style scoped>\n",
       "    .dataframe tbody tr th:only-of-type {\n",
       "        vertical-align: middle;\n",
       "    }\n",
       "\n",
       "    .dataframe tbody tr th {\n",
       "        vertical-align: top;\n",
       "    }\n",
       "\n",
       "    .dataframe thead th {\n",
       "        text-align: right;\n",
       "    }\n",
       "</style>\n",
       "<table border=\"1\" class=\"dataframe\">\n",
       "  <thead>\n",
       "    <tr style=\"text-align: right;\">\n",
       "      <th></th>\n",
       "      <th>Sale_ID</th>\n",
       "      <th>Date</th>\n",
       "      <th>Customer_ID</th>\n",
       "      <th>Bike_Model</th>\n",
       "      <th>Price</th>\n",
       "      <th>Quantity</th>\n",
       "      <th>Store_Location</th>\n",
       "      <th>Salesperson_ID</th>\n",
       "      <th>Payment_Method</th>\n",
       "      <th>Customer_Age</th>\n",
       "      <th>Customer_Gender</th>\n",
       "    </tr>\n",
       "  </thead>\n",
       "  <tbody>\n",
       "    <tr>\n",
       "      <th>0</th>\n",
       "      <td>1</td>\n",
       "      <td>11-07-2022</td>\n",
       "      <td>9390</td>\n",
       "      <td>Cruiser</td>\n",
       "      <td>318.32</td>\n",
       "      <td>1</td>\n",
       "      <td>Philadelphia</td>\n",
       "      <td>589</td>\n",
       "      <td>Apple Pay</td>\n",
       "      <td>70</td>\n",
       "      <td>Female</td>\n",
       "    </tr>\n",
       "    <tr>\n",
       "      <th>1</th>\n",
       "      <td>2</td>\n",
       "      <td>03-05-2024</td>\n",
       "      <td>3374</td>\n",
       "      <td>Hybrid Bike</td>\n",
       "      <td>3093.47</td>\n",
       "      <td>4</td>\n",
       "      <td>Chicago</td>\n",
       "      <td>390</td>\n",
       "      <td>Apple Pay</td>\n",
       "      <td>37</td>\n",
       "      <td>Male</td>\n",
       "    </tr>\n",
       "    <tr>\n",
       "      <th>2</th>\n",
       "      <td>3</td>\n",
       "      <td>01-09-2022</td>\n",
       "      <td>2689</td>\n",
       "      <td>Folding Bike</td>\n",
       "      <td>4247.99</td>\n",
       "      <td>3</td>\n",
       "      <td>San Antonio</td>\n",
       "      <td>338</td>\n",
       "      <td>PayPal</td>\n",
       "      <td>59</td>\n",
       "      <td>Female</td>\n",
       "    </tr>\n",
       "    <tr>\n",
       "      <th>3</th>\n",
       "      <td>4</td>\n",
       "      <td>28-09-2022</td>\n",
       "      <td>3797</td>\n",
       "      <td>Mountain Bike</td>\n",
       "      <td>1722.01</td>\n",
       "      <td>3</td>\n",
       "      <td>San Antonio</td>\n",
       "      <td>352</td>\n",
       "      <td>Apple Pay</td>\n",
       "      <td>19</td>\n",
       "      <td>Male</td>\n",
       "    </tr>\n",
       "    <tr>\n",
       "      <th>4</th>\n",
       "      <td>5</td>\n",
       "      <td>05-01-2021</td>\n",
       "      <td>1633</td>\n",
       "      <td>BMX</td>\n",
       "      <td>3941.44</td>\n",
       "      <td>3</td>\n",
       "      <td>Philadelphia</td>\n",
       "      <td>580</td>\n",
       "      <td>PayPal</td>\n",
       "      <td>67</td>\n",
       "      <td>Female</td>\n",
       "    </tr>\n",
       "    <tr>\n",
       "      <th>...</th>\n",
       "      <td>...</td>\n",
       "      <td>...</td>\n",
       "      <td>...</td>\n",
       "      <td>...</td>\n",
       "      <td>...</td>\n",
       "      <td>...</td>\n",
       "      <td>...</td>\n",
       "      <td>...</td>\n",
       "      <td>...</td>\n",
       "      <td>...</td>\n",
       "      <td>...</td>\n",
       "    </tr>\n",
       "    <tr>\n",
       "      <th>99995</th>\n",
       "      <td>99996</td>\n",
       "      <td>16-06-2022</td>\n",
       "      <td>7584</td>\n",
       "      <td>Hybrid Bike</td>\n",
       "      <td>3088.13</td>\n",
       "      <td>2</td>\n",
       "      <td>Philadelphia</td>\n",
       "      <td>116</td>\n",
       "      <td>PayPal</td>\n",
       "      <td>60</td>\n",
       "      <td>Female</td>\n",
       "    </tr>\n",
       "    <tr>\n",
       "      <th>99996</th>\n",
       "      <td>99997</td>\n",
       "      <td>09-12-2023</td>\n",
       "      <td>9076</td>\n",
       "      <td>Road Bike</td>\n",
       "      <td>1051.44</td>\n",
       "      <td>2</td>\n",
       "      <td>Phoenix</td>\n",
       "      <td>153</td>\n",
       "      <td>Credit Card</td>\n",
       "      <td>67</td>\n",
       "      <td>Female</td>\n",
       "    </tr>\n",
       "    <tr>\n",
       "      <th>99997</th>\n",
       "      <td>99998</td>\n",
       "      <td>14-02-2020</td>\n",
       "      <td>3944</td>\n",
       "      <td>Folding Bike</td>\n",
       "      <td>2783.79</td>\n",
       "      <td>4</td>\n",
       "      <td>Phoenix</td>\n",
       "      <td>124</td>\n",
       "      <td>Google Pay</td>\n",
       "      <td>37</td>\n",
       "      <td>Female</td>\n",
       "    </tr>\n",
       "    <tr>\n",
       "      <th>99998</th>\n",
       "      <td>99999</td>\n",
       "      <td>13-12-2023</td>\n",
       "      <td>3334</td>\n",
       "      <td>Hybrid Bike</td>\n",
       "      <td>4265.42</td>\n",
       "      <td>4</td>\n",
       "      <td>Philadelphia</td>\n",
       "      <td>610</td>\n",
       "      <td>Credit Card</td>\n",
       "      <td>57</td>\n",
       "      <td>Male</td>\n",
       "    </tr>\n",
       "    <tr>\n",
       "      <th>99999</th>\n",
       "      <td>100000</td>\n",
       "      <td>09-01-2022</td>\n",
       "      <td>3090</td>\n",
       "      <td>Cruiser</td>\n",
       "      <td>2529.65</td>\n",
       "      <td>1</td>\n",
       "      <td>San Antonio</td>\n",
       "      <td>566</td>\n",
       "      <td>Debit Card</td>\n",
       "      <td>41</td>\n",
       "      <td>Female</td>\n",
       "    </tr>\n",
       "  </tbody>\n",
       "</table>\n",
       "<p>100000 rows × 11 columns</p>\n",
       "</div>"
      ],
      "text/plain": [
       "       Sale_ID        Date  Customer_ID     Bike_Model    Price  Quantity  \\\n",
       "0            1  11-07-2022         9390        Cruiser   318.32         1   \n",
       "1            2  03-05-2024         3374    Hybrid Bike  3093.47         4   \n",
       "2            3  01-09-2022         2689   Folding Bike  4247.99         3   \n",
       "3            4  28-09-2022         3797  Mountain Bike  1722.01         3   \n",
       "4            5  05-01-2021         1633            BMX  3941.44         3   \n",
       "...        ...         ...          ...            ...      ...       ...   \n",
       "99995    99996  16-06-2022         7584    Hybrid Bike  3088.13         2   \n",
       "99996    99997  09-12-2023         9076      Road Bike  1051.44         2   \n",
       "99997    99998  14-02-2020         3944   Folding Bike  2783.79         4   \n",
       "99998    99999  13-12-2023         3334    Hybrid Bike  4265.42         4   \n",
       "99999   100000  09-01-2022         3090        Cruiser  2529.65         1   \n",
       "\n",
       "      Store_Location  Salesperson_ID Payment_Method  Customer_Age  \\\n",
       "0       Philadelphia             589      Apple Pay            70   \n",
       "1            Chicago             390      Apple Pay            37   \n",
       "2        San Antonio             338         PayPal            59   \n",
       "3        San Antonio             352      Apple Pay            19   \n",
       "4       Philadelphia             580         PayPal            67   \n",
       "...              ...             ...            ...           ...   \n",
       "99995   Philadelphia             116         PayPal            60   \n",
       "99996        Phoenix             153    Credit Card            67   \n",
       "99997        Phoenix             124     Google Pay            37   \n",
       "99998   Philadelphia             610    Credit Card            57   \n",
       "99999    San Antonio             566     Debit Card            41   \n",
       "\n",
       "      Customer_Gender  \n",
       "0              Female  \n",
       "1                Male  \n",
       "2              Female  \n",
       "3                Male  \n",
       "4              Female  \n",
       "...               ...  \n",
       "99995          Female  \n",
       "99996          Female  \n",
       "99997          Female  \n",
       "99998            Male  \n",
       "99999          Female  \n",
       "\n",
       "[100000 rows x 11 columns]"
      ]
     },
     "execution_count": 2,
     "metadata": {},
     "output_type": "execute_result"
    }
   ],
   "source": [
    "df = pd.read_csv('bike_sales_100k.csv')\n",
    "df"
   ]
  },
  {
   "cell_type": "code",
   "execution_count": 3,
   "id": "b5362503-e38b-4e3b-a5d7-730de658a6ab",
   "metadata": {},
   "outputs": [
    {
     "name": "stdout",
     "output_type": "stream",
     "text": [
      "\n",
      "=== Info Dataset ===\n",
      "<class 'pandas.core.frame.DataFrame'>\n",
      "RangeIndex: 100000 entries, 0 to 99999\n",
      "Data columns (total 11 columns):\n",
      " #   Column           Non-Null Count   Dtype  \n",
      "---  ------           --------------   -----  \n",
      " 0   Sale_ID          100000 non-null  int64  \n",
      " 1   Date             100000 non-null  object \n",
      " 2   Customer_ID      100000 non-null  int64  \n",
      " 3   Bike_Model       100000 non-null  object \n",
      " 4   Price            100000 non-null  float64\n",
      " 5   Quantity         100000 non-null  int64  \n",
      " 6   Store_Location   100000 non-null  object \n",
      " 7   Salesperson_ID   100000 non-null  int64  \n",
      " 8   Payment_Method   100000 non-null  object \n",
      " 9   Customer_Age     100000 non-null  int64  \n",
      " 10  Customer_Gender  100000 non-null  object \n",
      "dtypes: float64(1), int64(5), object(5)\n",
      "memory usage: 8.4+ MB\n",
      "None\n",
      "\n",
      "=== Missing Values ===\n",
      "Sale_ID            0\n",
      "Date               0\n",
      "Customer_ID        0\n",
      "Bike_Model         0\n",
      "Price              0\n",
      "Quantity           0\n",
      "Store_Location     0\n",
      "Salesperson_ID     0\n",
      "Payment_Method     0\n",
      "Customer_Age       0\n",
      "Customer_Gender    0\n",
      "dtype: int64\n",
      "\n",
      "=== Deskripsi Statistik Numerik ===\n",
      "             Sale_ID    Customer_ID          Price       Quantity  \\\n",
      "count  100000.000000  100000.000000  100000.000000  100000.000000   \n",
      "mean    50000.500000    5495.450720    2598.182340       2.997110   \n",
      "std     28867.657797    2598.873948    1384.943133       1.414235   \n",
      "min         1.000000    1000.000000     200.010000       1.000000   \n",
      "25%     25000.750000    3249.000000    1399.787500       2.000000   \n",
      "50%     50000.500000    5491.000000    2598.575000       3.000000   \n",
      "75%     75000.250000    7738.000000    3795.982500       4.000000   \n",
      "max    100000.000000    9999.000000    4999.810000       5.000000   \n",
      "\n",
      "       Salesperson_ID   Customer_Age  \n",
      "count   100000.000000  100000.000000  \n",
      "mean       549.906300      44.043410  \n",
      "std        259.679221      15.313761  \n",
      "min        100.000000      18.000000  \n",
      "25%        324.000000      31.000000  \n",
      "50%        550.000000      44.000000  \n",
      "75%        775.000000      57.000000  \n",
      "max        999.000000      70.000000  \n",
      "\n",
      "=== Deskripsi Statistik Kategorikal ===\n",
      "              Date Bike_Model Store_Location Payment_Method Customer_Gender\n",
      "count       100000     100000         100000         100000          100000\n",
      "unique        1727          7              7              6               2\n",
      "top     29-01-2022        BMX       New York      Apple Pay          Female\n",
      "freq            81      14377          14515          16751           50227\n"
     ]
    }
   ],
   "source": [
    "print(\"\\n=== Info Dataset ===\")\n",
    "print(df.info())\n",
    "\n",
    "print(\"\\n=== Missing Values ===\")\n",
    "print(df.isnull().sum())\n",
    "\n",
    "print(\"\\n=== Deskripsi Statistik Numerik ===\")\n",
    "print(df.describe())\n",
    "\n",
    "print(\"\\n=== Deskripsi Statistik Kategorikal ===\")\n",
    "print(df.describe(include=['object']))"
   ]
  },
  {
   "cell_type": "code",
   "execution_count": 4,
   "id": "83dfd3e8-6821-43e7-a810-5d4d156d0a21",
   "metadata": {},
   "outputs": [
    {
     "name": "stdout",
     "output_type": "stream",
     "text": [
      "\n",
      "Tanggal yang gagal diparse:\n",
      "Empty DataFrame\n",
      "Columns: [Sale_ID, Date, Customer_ID, Bike_Model, Price, Quantity, Store_Location, Salesperson_ID, Payment_Method, Customer_Age, Customer_Gender]\n",
      "Index: []\n",
      "\n",
      "Jumlah data duplikat: 0\n"
     ]
    }
   ],
   "source": [
    "df['Date'] = pd.to_datetime(df['Date'], dayfirst=True, errors='coerce')\n",
    "\n",
    "print(\"\\nTanggal yang gagal diparse:\")\n",
    "print(df[df['Date'].isnull()])\n",
    "\n",
    "df = df.dropna(subset=['Date'])\n",
    "\n",
    "print(\"\\nJumlah data duplikat:\", df.duplicated().sum())\n"
   ]
  },
  {
   "cell_type": "code",
   "execution_count": 5,
   "id": "fb69e414-4e10-49c5-915a-f9754717b7d3",
   "metadata": {},
   "outputs": [
    {
     "data": {
      "image/png": "[encoded data removed]",
      "text/plain": [
       "<Figure size 800x400 with 1 Axes>"
      ]
     },
     "metadata": {},
     "output_type": "display_data"
    }
   ],
   "source": [
    "plt.figure(figsize=(8,4))\n",
    "sns.histplot(df['Price'], bins=50, kde=True)\n",
    "plt.title('Distribusi Harga')\n",
    "plt.show()"
   ]
  },
  {
   "cell_type": "code",
   "execution_count": 6,
   "id": "e846cea3-d6f6-468f-a581-886ddbc803c2",
   "metadata": {},
   "outputs": [
    {
     "data": {
      "image/png": "[encoded data removed]",
      "text/plain": [
       "<Figure size 800x400 with 1 Axes>"
      ]
     },
     "metadata": {},
     "output_type": "display_data"
    }
   ],
   "source": [
    "plt.figure(figsize=(8,4))\n",
    "sns.histplot(df['Customer_Age'], bins=30, kde=True)\n",
    "plt.title('Distribusi Usia Customer')\n",
    "plt.show()"
   ]
  },
  {
   "cell_type": "code",
   "execution_count": 7,
   "id": "40a10d7c-a4b3-414e-90ab-26f4f67fe0da",
   "metadata": {},
   "outputs": [
    {
     "name": "stdout",
     "output_type": "stream",
     "text": [
      "\n",
      "Nilai unik Quantity: [1 4 3 5 2]\n",
      "Payment_Method\n",
      "Apple Pay      43560175.14\n",
      "Debit Card     43465152.78\n",
      "Cash           43339432.71\n",
      "Credit Card    43334315.29\n",
      "Google Pay     43292139.57\n",
      "PayPal         42827018.47\n",
      "Name: Price, dtype: float64\n"
     ]
    }
   ],
   "source": [
    "print(\"\\nNilai unik Quantity:\", df['Quantity'].unique())\n",
    "print(df.groupby('Payment_Method')['Price'].sum().sort_values(ascending=False))"
   ]
  },
  {
   "cell_type": "code",
   "execution_count": 8,
   "id": "66b803dd-c8cc-44a6-9b56-00483bea7fb6",
   "metadata": {},
   "outputs": [
    {
     "name": "stdout",
     "output_type": "stream",
     "text": [
      "\n",
      "=== Distribusi Harga ===\n",
      "Jumlah data  : 100000\n",
      "Nilai minimum: 200.01\n",
      "Nilai maksimum: 4999.81\n",
      "Rata-rata    : 2598.1823396000004\n",
      "Median       : 2598.575\n",
      "Standar dev  : 1384.943132758159\n",
      "\n",
      "Kuartil:\n",
      "0.25    1399.7875\n",
      "0.50    2598.5750\n",
      "0.75    3795.9825\n",
      "0.90    4521.6910\n",
      "0.95    4758.7870\n",
      "0.99    4949.7300\n",
      "Name: Price, dtype: float64\n",
      "\n",
      "=== Distribusi Usia Customer ===\n",
      "Jumlah data  : 100000\n",
      "Nilai minimum: 18\n",
      "Nilai maksimum: 70\n",
      "Rata-rata    : 44.04341\n",
      "Median       : 44.0\n",
      "Standar dev  : 15.313760827589247\n",
      "\n",
      "Kuartil:\n",
      "0.25    31.0\n",
      "0.50    44.0\n",
      "0.75    57.0\n",
      "0.90    65.0\n",
      "0.95    68.0\n",
      "0.99    70.0\n",
      "Name: Customer_Age, dtype: float64\n"
     ]
    }
   ],
   "source": [
    "print(\"\\n=== Distribusi Harga ===\")\n",
    "print(\"Jumlah data  :\", len(df['Price']))\n",
    "print(\"Nilai minimum:\", df['Price'].min())\n",
    "print(\"Nilai maksimum:\", df['Price'].max())\n",
    "print(\"Rata-rata    :\", df['Price'].mean())\n",
    "print(\"Median       :\", df['Price'].median())\n",
    "print(\"Standar dev  :\", df['Price'].std())\n",
    "print(\"\\nKuartil:\")\n",
    "print(df['Price'].quantile([0.25, 0.5, 0.75, 0.9, 0.95, 0.99]))\n",
    "\n",
    "print(\"\\n=== Distribusi Usia Customer ===\")\n",
    "print(\"Jumlah data  :\", len(df['Customer_Age']))\n",
    "print(\"Nilai minimum:\", df['Customer_Age'].min())\n",
    "print(\"Nilai maksimum:\", df['Customer_Age'].max())\n",
    "print(\"Rata-rata    :\", df['Customer_Age'].mean())\n",
    "print(\"Median       :\", df['Customer_Age'].median())\n",
    "print(\"Standar dev  :\", df['Customer_Age'].std())\n",
    "print(\"\\nKuartil:\")\n",
    "print(df['Customer_Age'].quantile([0.25, 0.5, 0.75, 0.9, 0.95, 0.99]))"
   ]
  },
  {
   "cell_type": "code",
   "execution_count": 9,
   "id": "578e39b1-955b-4916-9602-65a50adcb37d",
   "metadata": {},
   "outputs": [
    {
     "name": "stdout",
     "output_type": "stream",
     "text": [
      "\n",
      "=== Outliers Customer_Age ===\n",
      "Jumlah data: 100000\n",
      "Jumlah outliers: 0\n",
      "Persentase outliers: 0.00%\n",
      "Rentang wajar usia: -8.0 - 96.0\n",
      "Nilai usia minimum: 18\n",
      "Nilai usia maksimum: 70\n",
      "\n",
      "=== Outliers Quantity ===\n",
      "Jumlah data: 100000\n",
      "Jumlah outliers: 0\n",
      "Persentase outliers: 0.00%\n",
      "Rentang wajar Quantity: -1.0 - 7.0\n",
      "Nilai Quantity minimum: 1\n",
      "Nilai Quantity maksimum: 5\n"
     ]
    }
   ],
   "source": [
    "Q1_age = df['Customer_Age'].quantile(0.25)\n",
    "Q3_age = df['Customer_Age'].quantile(0.75)\n",
    "IQR_age = Q3_age - Q1_age\n",
    "upper_bound_age = Q3_age + 1.5 * IQR_age\n",
    "lower_bound_age = Q1_age - 1.5 * IQR_age\n",
    "\n",
    "outliers_age = df[(df['Customer_Age'] > upper_bound_age) | (df['Customer_Age'] < lower_bound_age)]\n",
    "\n",
    "print(\"\\n=== Outliers Customer_Age ===\")\n",
    "print(\"Jumlah data:\", len(df))\n",
    "print(\"Jumlah outliers:\", len(outliers_age))\n",
    "print(\"Persentase outliers: {:.2f}%\".format(100 * len(outliers_age) / len(df)))\n",
    "print(\"Rentang wajar usia: {:.1f} - {:.1f}\".format(lower_bound_age, upper_bound_age))\n",
    "print(\"Nilai usia minimum:\", df['Customer_Age'].min())\n",
    "print(\"Nilai usia maksimum:\", df['Customer_Age'].max())\n",
    "\n",
    "Q1_qty = df['Quantity'].quantile(0.25)\n",
    "Q3_qty = df['Quantity'].quantile(0.75)\n",
    "IQR_qty = Q3_qty - Q1_qty\n",
    "upper_bound_qty = Q3_qty + 1.5 * IQR_qty\n",
    "lower_bound_qty = Q1_qty - 1.5 * IQR_qty\n",
    "\n",
    "outliers_qty = df[(df['Quantity'] > upper_bound_qty) | (df['Quantity'] < lower_bound_qty)]\n",
    "\n",
    "print(\"\\n=== Outliers Quantity ===\")\n",
    "print(\"Jumlah data:\", len(df))\n",
    "print(\"Jumlah outliers:\", len(outliers_qty))\n",
    "print(\"Persentase outliers: {:.2f}%\".format(100 * len(outliers_qty) / len(df)))\n",
    "print(\"Rentang wajar Quantity: {:.1f} - {:.1f}\".format(lower_bound_qty, upper_bound_qty))\n",
    "print(\"Nilai Quantity minimum:\", df['Quantity'].min())\n",
    "print(\"Nilai Quantity maksimum:\", df['Quantity'].max())"
   ]
  },
  {
   "cell_type": "code",
   "execution_count": 11,
   "id": "a53218b1-c425-4ff1-a9a7-2d000f9b1dfa",
   "metadata": {},
   "outputs": [
    {
     "name": "stdout",
     "output_type": "stream",
     "text": [
      "Collecting pytorch-tabnet\n",
      "  Downloading pytorch_tabnet-4.1.0-py3-none-any.whl.metadata (15 kB)\n",
      "Requirement already satisfied: numpy>=1.17 in c:\\users\\i putu nanda aditya\\appdata\\local\\programs\\python\\python311\\lib\\site-packages (from pytorch-tabnet) (1.26.4)\n",
      "Requirement already satisfied: scikit_learn>0.21 in c:\\users\\i putu nanda aditya\\appdata\\local\\programs\\python\\python311\\lib\\site-packages (from pytorch-tabnet) (1.6.0)\n",
      "Requirement already satisfied: scipy>1.4 in c:\\users\\i putu nanda aditya\\appdata\\local\\programs\\python\\python311\\lib\\site-packages (from pytorch-tabnet) (1.13.1)\n",
      "Requirement already satisfied: torch>=1.3 in c:\\users\\i putu nanda aditya\\appdata\\local\\programs\\python\\python311\\lib\\site-packages (from pytorch-tabnet) (2.6.0)\n",
      "Requirement already satisfied: tqdm>=4.36 in c:\\users\\i putu nanda aditya\\appdata\\local\\programs\\python\\python311\\lib\\site-packages (from pytorch-tabnet) (4.67.1)\n",
      "Requirement already satisfied: joblib>=1.2.0 in c:\\users\\i putu nanda aditya\\appdata\\local\\programs\\python\\python311\\lib\\site-packages (from scikit_learn>0.21->pytorch-tabnet) (1.4.2)\n",
      "Requirement already satisfied: threadpoolctl>=3.1.0 in c:\\users\\i putu nanda aditya\\appdata\\local\\programs\\python\\python311\\lib\\site-packages (from scikit_learn>0.21->pytorch-tabnet) (3.5.0)\n",
      "Requirement already satisfied: filelock in c:\\users\\i putu nanda aditya\\appdata\\local\\programs\\python\\python311\\lib\\site-packages (from torch>=1.3->pytorch-tabnet) (3.16.1)\n",
      "Requirement already satisfied: typing-extensions>=4.10.0 in c:\\users\\i putu nanda aditya\\appdata\\local\\programs\\python\\python311\\lib\\site-packages (from torch>=1.3->pytorch-tabnet) (4.12.2)\n",
      "Requirement already satisfied: networkx in c:\\users\\i putu nanda aditya\\appdata\\local\\programs\\python\\python311\\lib\\site-packages (from torch>=1.3->pytorch-tabnet) (3.4.2)\n",
      "Requirement already satisfied: jinja2 in c:\\users\\i putu nanda aditya\\appdata\\local\\programs\\python\\python311\\lib\\site-packages (from torch>=1.3->pytorch-tabnet) (3.1.4)\n",
      "Requirement already satisfied: fsspec in c:\\users\\i putu nanda aditya\\appdata\\local\\programs\\python\\python311\\lib\\site-packages (from torch>=1.3->pytorch-tabnet) (2024.12.0)\n",
      "Requirement already satisfied: sympy==1.13.1 in c:\\users\\i putu nanda aditya\\appdata\\local\\programs\\python\\python311\\lib\\site-packages (from torch>=1.3->pytorch-tabnet) (1.13.1)\n",
      "Requirement already satisfied: mpmath<1.4,>=1.1.0 in c:\\users\\i putu nanda aditya\\appdata\\local\\programs\\python\\python311\\lib\\site-packages (from sympy==1.13.1->torch>=1.3->pytorch-tabnet) (1.3.0)\n",
      "Requirement already satisfied: colorama in c:\\users\\i putu nanda aditya\\appdata\\local\\programs\\python\\python311\\lib\\site-packages (from tqdm>=4.36->pytorch-tabnet) (0.4.6)\n",
      "Requirement already satisfied: MarkupSafe>=2.0 in c:\\users\\i putu nanda aditya\\appdata\\local\\programs\\python\\python311\\lib\\site-packages (from jinja2->torch>=1.3->pytorch-tabnet) (3.0.2)\n",
      "Downloading pytorch_tabnet-4.1.0-py3-none-any.whl (44 kB)\n",
      "Installing collected packages: pytorch-tabnet\n",
      "Successfully installed pytorch-tabnet-4.1.0\n",
      "Note: you may need to restart the kernel to use updated packages.\n"
     ]
    },
    {
     "name": "stderr",
     "output_type": "stream",
     "text": [
      "\n",
      "[notice] A new release of pip is available: 25.0.1 -> 25.1.1\n",
      "[notice] To update, run: C:\\Users\\I Putu Nanda Aditya\\AppData\\Local\\Programs\\Python\\Python311\\python.exe -m pip install --upgrade pip\n"
     ]
    }
   ],
   "source": [
    "pip install pytorch-tabnet"
   ]
  },
  {
   "cell_type": "code",
   "execution_count": 12,
   "id": "80e0471e-37f7-43a9-97b1-43ca0db9caf0",
   "metadata": {
    "scrolled": true
   },
   "outputs": [
    {
     "name": "stdout",
     "output_type": "stream",
     "text": [
      "Jumlah data: (100000, 11)\n",
      "Kolom: Index(['Sale_ID', 'Date', 'Customer_ID', 'Bike_Model', 'Price', 'Quantity',\n",
      "       'Store_Location', 'Salesperson_ID', 'Payment_Method', 'Customer_Age',\n",
      "       'Customer_Gender'],\n",
      "      dtype='object')\n"
     ]
    }
   ],
   "source": [
    "print(\"Jumlah data:\", df.shape)\n",
    "print(\"Kolom:\", df.columns)"
   ]
  },
  {
   "cell_type": "code",
   "execution_count": 42,
   "id": "88aac891-277f-4042-a000-8cf85d4d42f0",
   "metadata": {
    "scrolled": true
   },
   "outputs": [],
   "source": [
    "import numpy as np\n",
    "import torch\n",
    "from pytorch_tabnet.tab_model import TabNetClassifier\n",
    "from sklearn.preprocessing import LabelEncoder, StandardScaler, OneHotEncoder, PolynomialFeatures\n",
    "from sklearn.model_selection import train_test_split\n",
    "from sklearn.metrics import classification_report, accuracy_score, confusion_matrix\n",
    "from sklearn.pipeline import Pipeline, FeatureUnion\n",
    "from sklearn.compose import ColumnTransformer\n",
    "from sklearn.base import BaseEstimator, TransformerMixin"
   ]
  },
  {
   "cell_type": "code",
   "execution_count": 43,
   "id": "67b7739c-e950-4908-a170-285968ecda94",
   "metadata": {},
   "outputs": [],
   "source": [
    "class FeatureEngineering(BaseEstimator, TransformerMixin):\n",
    "    def fit(self, X, y=None): return self\n",
    "    def transform(self, X):\n",
    "        df = X.copy()\n",
    "        df['Date'] = pd.to_datetime(df['Date'], dayfirst=True)\n",
    "        df['Year'] = df['Date'].dt.year\n",
    "        df['Month'] = df['Date'].dt.month\n",
    "        df['DayOfWeek'] = df['Date'].dt.dayofweek\n",
    "        df['IsWeekend'] = df['DayOfWeek'].isin([5,6]).astype(int)\n",
    "        df['Total_Sale'] = df['Price'] * df['Quantity']\n",
    "        df['Price_per_Quantity'] = df['Price'] / (df['Quantity']+1)\n",
    "        df['Age_Group'] = pd.cut(df['Customer_Age'], bins=[17,25,35,45,55,65,75], labels=False)\n",
    "        df.drop(['Date'], axis=1, inplace=True)\n",
    "        return df"
   ]
  },
  {
   "cell_type": "code",
   "execution_count": 44,
   "id": "3a89d9bc-2b7a-450f-a231-2fbe1defac86",
   "metadata": {},
   "outputs": [],
   "source": [
    "class MetaFeatures(BaseEstimator, TransformerMixin):\n",
    "    def fit(self, X, y=None):\n",
    "        self.customer_tx_count = X.groupby('Customer_ID').size().to_dict()\n",
    "        self.salesperson_tx_count = X.groupby('Salesperson_ID').size().to_dict()\n",
    "        self.model_popularity = X.groupby('Bike_Model').size().to_dict()\n",
    "        return self\n",
    "    def transform(self, X):\n",
    "        df = X.copy()\n",
    "        df['Customer_Frequency'] = df['Customer_ID'].map(self.customer_tx_count).fillna(0)\n",
    "        df['Salesperson_Frequency'] = df['Salesperson_ID'].map(self.salesperson_tx_count).fillna(0)\n",
    "        df['Model_Popularity'] = df['Bike_Model'].map(self.model_popularity).fillna(0)\n",
    "        return df"
   ]
  },
  {
   "cell_type": "code",
   "execution_count": 45,
   "id": "6a98a07f-65a5-421d-a7e7-e89757804e07",
   "metadata": {},
   "outputs": [],
   "source": [
    "categorical_cols = ['Bike_Model','Store_Location','Payment_Method']\n",
    "numeric_cols = [\n",
    "    'Price','Quantity','Customer_Age','Year','Month','DayOfWeek','IsWeekend',\n",
    "    'Total_Sale','Price_per_Quantity','Age_Group',\n",
    "    'Customer_Frequency','Salesperson_Frequency','Model_Popularity'\n",
    "]"
   ]
  },
  {
   "cell_type": "code",
   "execution_count": 46,
   "id": "c3645050-4025-4214-b4b3-1c25abedbf27",
   "metadata": {},
   "outputs": [],
   "source": [
    "categorical_cols = ['Bike_Model','Store_Location','Payment_Method']\n",
    "numeric_cols = [\n",
    "    'Price','Quantity','Customer_Age','Year','Month','DayOfWeek','IsWeekend',\n",
    "    'Total_Sale','Price_per_Quantity','Age_Group',\n",
    "    'Customer_Frequency','Salesperson_Frequency','Model_Popularity'\n",
    "]"
   ]
  },
  {
   "cell_type": "code",
   "execution_count": 47,
   "id": "9f7eb8ad-c22b-4959-9688-bcc7798fa8b7",
   "metadata": {},
   "outputs": [],
   "source": [
    "full_pipeline = Pipeline([\n",
    "    ('feature_eng', FeatureEngineering()),\n",
    "    ('meta_features', MetaFeatures()),\n",
    "    ('preprocessor', preprocessor)\n",
    "])"
   ]
  },
  {
   "cell_type": "code",
   "execution_count": 48,
   "id": "4ad4b6cb-6203-43db-bc76-79a304271239",
   "metadata": {},
   "outputs": [],
   "source": [
    "le_target = LabelEncoder()\n",
    "df['Customer_Gender_encoded'] = le_target.fit_transform(df['Customer_Gender'])\n",
    "\n",
    "# Split before fit (safe leakage)\n",
    "X_train, X_test, y_train, y_test = train_test_split(\n",
    "    df.drop(['Customer_Gender','Customer_Gender_encoded','Sale_ID'], axis=1),\n",
    "    df['Customer_Gender_encoded'],\n",
    "    test_size=0.2, random_state=42, stratify=df['Customer_Gender_encoded']\n",
    ")"
   ]
  },
  {
   "cell_type": "code",
   "execution_count": 51,
   "id": "a82deb5d-9033-4bad-8f50-f7891d33341d",
   "metadata": {},
   "outputs": [
    {
     "name": "stderr",
     "output_type": "stream",
     "text": [
      "C:\\Users\\I Putu Nanda Aditya\\AppData\\Local\\Programs\\Python\\Python311\\Lib\\site-packages\\sklearn\\impute\\_base.py:635: UserWarning: Skipping features without any observed values: ['Age_Group']. At least one non-missing value is needed for imputation with strategy='mean'.\n",
      "  warnings.warn(\n",
      "C:\\Users\\I Putu Nanda Aditya\\AppData\\Local\\Programs\\Python\\Python311\\Lib\\site-packages\\sklearn\\impute\\_base.py:635: UserWarning: Skipping features without any observed values: ['Age_Group']. At least one non-missing value is needed for imputation with strategy='mean'.\n",
      "  warnings.warn(\n"
     ]
    },
    {
     "name": "stdout",
     "output_type": "stream",
     "text": [
      "✅ Shape after transform: (80000, 110)\n"
     ]
    }
   ],
   "source": [
    "from sklearn.pipeline import Pipeline\n",
    "from sklearn.compose import ColumnTransformer\n",
    "from sklearn.preprocessing import OneHotEncoder, PolynomialFeatures, StandardScaler\n",
    "from sklearn.impute import SimpleImputer\n",
    "\n",
    "# numeric dan categorical\n",
    "numeric_cols = [\n",
    "    'Price','Quantity','Customer_Age','Year','Month','DayOfWeek','IsWeekend',\n",
    "    'Total_Sale','Price_per_Quantity','Age_Group',\n",
    "    'Customer_Frequency','Salesperson_Frequency','Model_Popularity'\n",
    "]\n",
    "categorical_cols = ['Bike_Model','Store_Location','Payment_Method']\n",
    "\n",
    "# pipeline numeric: imputasi + scaling + polynomial\n",
    "numeric_pipeline = Pipeline([\n",
    "    ('imputer', SimpleImputer(strategy='mean')),\n",
    "    ('scaler', StandardScaler()),\n",
    "    ('poly', PolynomialFeatures(degree=2, include_bias=False))\n",
    "])\n",
    "\n",
    "# pipeline categorical: imputasi (rare, tapi aman) + onehot\n",
    "categorical_pipeline = Pipeline([\n",
    "    ('imputer', SimpleImputer(strategy='most_frequent')),\n",
    "    ('onehot', OneHotEncoder(handle_unknown='ignore'))\n",
    "])\n",
    "\n",
    "# full preprocessor\n",
    "preprocessor = ColumnTransformer([\n",
    "    ('num', numeric_pipeline, numeric_cols),\n",
    "    ('cat', categorical_pipeline, categorical_cols)\n",
    "])\n",
    "\n",
    "# final pipeline\n",
    "full_pipeline = Pipeline([\n",
    "    ('feature_eng', FeatureEngineering()),\n",
    "    ('meta_features', MetaFeatures()),\n",
    "    ('preprocessor', preprocessor)\n",
    "])\n",
    "\n",
    "# fit\n",
    "full_pipeline.fit(X_train)\n",
    "X_train_transformed = full_pipeline.transform(X_train)\n",
    "print('✅ Shape after transform:', X_train_transformed.shape)\n"
   ]
  },
  {
   "cell_type": "code",
   "execution_count": 61,
   "id": "c09b3011-1bd0-4f37-a83d-17545537358c",
   "metadata": {},
   "outputs": [],
   "source": [
    "if isinstance(y_train, pd.Series):\n",
    "    y_train = y_train.values\n",
    "\n",
    "# Split untuk validasi\n",
    "X_tr, X_val, y_tr, y_val = train_test_split(\n",
    "    X_train_transformed, y_train,\n",
    "    test_size=0.2, random_state=42, stratify=y_train\n",
    ")"
   ]
  },
  {
   "cell_type": "code",
   "execution_count": 64,
   "id": "574877e8-1274-4536-9bb2-88dcf244320e",
   "metadata": {},
   "outputs": [
    {
     "name": "stderr",
     "output_type": "stream",
     "text": [
      "C:\\Users\\I Putu Nanda Aditya\\AppData\\Local\\Programs\\Python\\Python311\\Lib\\site-packages\\pytorch_tabnet\\abstract_model.py:82: UserWarning: Device used : cpu\n",
      "  warnings.warn(f\"Device used : {self.device}\")\n"
     ]
    },
    {
     "name": "stdout",
     "output_type": "stream",
     "text": [
      "epoch 0  | loss: 0.83072 | val_accuracy: 0.49469 |  0:00:19s\n",
      "epoch 1  | loss: 0.69841 | val_accuracy: 0.49838 |  0:00:37s\n",
      "epoch 2  | loss: 0.69591 | val_accuracy: 0.50494 |  0:00:58s\n",
      "epoch 3  | loss: 0.69533 | val_accuracy: 0.50187 |  0:01:12s\n",
      "epoch 4  | loss: 0.695   | val_accuracy: 0.49931 |  0:01:28s\n",
      "epoch 5  | loss: 0.69463 | val_accuracy: 0.50031 |  0:01:47s\n",
      "epoch 6  | loss: 0.6948  | val_accuracy: 0.49919 |  0:02:06s\n",
      "epoch 7  | loss: 0.69493 | val_accuracy: 0.50081 |  0:02:25s\n",
      "epoch 8  | loss: 0.6945  | val_accuracy: 0.50106 |  0:02:44s\n",
      "epoch 9  | loss: 0.69437 | val_accuracy: 0.50069 |  0:03:01s\n",
      "epoch 10 | loss: 0.69452 | val_accuracy: 0.50594 |  0:03:16s\n",
      "epoch 11 | loss: 0.69438 | val_accuracy: 0.49844 |  0:03:31s\n",
      "epoch 12 | loss: 0.69423 | val_accuracy: 0.50369 |  0:03:45s\n",
      "epoch 13 | loss: 0.69432 | val_accuracy: 0.5045  |  0:04:04s\n",
      "epoch 14 | loss: 0.69421 | val_accuracy: 0.50081 |  0:04:22s\n",
      "epoch 15 | loss: 0.69412 | val_accuracy: 0.50081 |  0:04:40s\n",
      "epoch 16 | loss: 0.69398 | val_accuracy: 0.49344 |  0:04:59s\n",
      "epoch 17 | loss: 0.6941  | val_accuracy: 0.50094 |  0:05:19s\n",
      "epoch 18 | loss: 0.69405 | val_accuracy: 0.50413 |  0:05:38s\n",
      "epoch 19 | loss: 0.69407 | val_accuracy: 0.50319 |  0:05:56s\n",
      "epoch 20 | loss: 0.69395 | val_accuracy: 0.49844 |  0:06:15s\n",
      "epoch 21 | loss: 0.69388 | val_accuracy: 0.50238 |  0:06:34s\n",
      "epoch 22 | loss: 0.69382 | val_accuracy: 0.50325 |  0:06:53s\n",
      "epoch 23 | loss: 0.69383 | val_accuracy: 0.50438 |  0:07:12s\n",
      "epoch 24 | loss: 0.69378 | val_accuracy: 0.502   |  0:07:30s\n",
      "epoch 25 | loss: 0.69369 | val_accuracy: 0.50769 |  0:07:49s\n",
      "epoch 26 | loss: 0.69361 | val_accuracy: 0.50469 |  0:08:08s\n",
      "epoch 27 | loss: 0.69362 | val_accuracy: 0.5035  |  0:08:27s\n",
      "epoch 28 | loss: 0.6934  | val_accuracy: 0.50462 |  0:08:46s\n",
      "epoch 29 | loss: 0.6936  | val_accuracy: 0.50313 |  0:09:05s\n",
      "epoch 30 | loss: 0.6935  | val_accuracy: 0.50187 |  0:09:24s\n",
      "epoch 31 | loss: 0.69357 | val_accuracy: 0.50369 |  0:09:42s\n",
      "epoch 32 | loss: 0.69346 | val_accuracy: 0.50013 |  0:10:01s\n",
      "epoch 33 | loss: 0.69336 | val_accuracy: 0.50362 |  0:10:20s\n",
      "epoch 34 | loss: 0.69327 | val_accuracy: 0.50469 |  0:10:39s\n",
      "epoch 35 | loss: 0.69319 | val_accuracy: 0.49962 |  0:10:58s\n",
      "epoch 36 | loss: 0.69309 | val_accuracy: 0.4985  |  0:11:17s\n",
      "epoch 37 | loss: 0.69325 | val_accuracy: 0.50538 |  0:11:37s\n",
      "epoch 38 | loss: 0.69311 | val_accuracy: 0.50775 |  0:11:56s\n",
      "epoch 39 | loss: 0.69329 | val_accuracy: 0.50981 |  0:12:15s\n",
      "epoch 40 | loss: 0.69308 | val_accuracy: 0.5055  |  0:12:34s\n",
      "epoch 41 | loss: 0.69291 | val_accuracy: 0.50394 |  0:12:53s\n",
      "epoch 42 | loss: 0.69304 | val_accuracy: 0.50487 |  0:13:12s\n",
      "epoch 43 | loss: 0.69302 | val_accuracy: 0.50475 |  0:13:30s\n",
      "epoch 44 | loss: 0.6929  | val_accuracy: 0.50181 |  0:13:49s\n",
      "epoch 45 | loss: 0.69278 | val_accuracy: 0.50038 |  0:14:08s\n",
      "epoch 46 | loss: 0.69266 | val_accuracy: 0.50175 |  0:14:27s\n",
      "epoch 47 | loss: 0.6927  | val_accuracy: 0.5065  |  0:14:45s\n",
      "epoch 48 | loss: 0.6928  | val_accuracy: 0.505   |  0:15:04s\n",
      "epoch 49 | loss: 0.69272 | val_accuracy: 0.50469 |  0:15:23s\n",
      "epoch 50 | loss: 0.69257 | val_accuracy: 0.50662 |  0:15:42s\n",
      "epoch 51 | loss: 0.69257 | val_accuracy: 0.50719 |  0:16:01s\n",
      "epoch 52 | loss: 0.6927  | val_accuracy: 0.503   |  0:16:20s\n",
      "epoch 53 | loss: 0.69253 | val_accuracy: 0.50394 |  0:16:39s\n",
      "epoch 54 | loss: 0.69229 | val_accuracy: 0.50181 |  0:17:01s\n",
      "epoch 55 | loss: 0.69211 | val_accuracy: 0.50287 |  0:17:20s\n",
      "epoch 56 | loss: 0.69163 | val_accuracy: 0.50769 |  0:17:40s\n",
      "epoch 57 | loss: 0.69229 | val_accuracy: 0.50813 |  0:18:05s\n",
      "epoch 58 | loss: 0.69214 | val_accuracy: 0.50769 |  0:18:27s\n",
      "epoch 59 | loss: 0.69173 | val_accuracy: 0.5035  |  0:18:48s\n",
      "epoch 60 | loss: 0.69189 | val_accuracy: 0.50425 |  0:19:10s\n",
      "epoch 61 | loss: 0.69127 | val_accuracy: 0.50694 |  0:19:30s\n",
      "epoch 62 | loss: 0.69113 | val_accuracy: 0.50462 |  0:19:54s\n",
      "epoch 63 | loss: 0.6912  | val_accuracy: 0.5035  |  0:20:15s\n",
      "epoch 64 | loss: 0.69115 | val_accuracy: 0.503   |  0:20:33s\n",
      "epoch 65 | loss: 0.69065 | val_accuracy: 0.49956 |  0:20:52s\n",
      "epoch 66 | loss: 0.69144 | val_accuracy: 0.50438 |  0:21:10s\n",
      "epoch 67 | loss: 0.69129 | val_accuracy: 0.50438 |  0:21:31s\n",
      "epoch 68 | loss: 0.69109 | val_accuracy: 0.50462 |  0:21:53s\n",
      "epoch 69 | loss: 0.69058 | val_accuracy: 0.50256 |  0:22:11s\n",
      "epoch 70 | loss: 0.69029 | val_accuracy: 0.49938 |  0:22:29s\n",
      "epoch 71 | loss: 0.69002 | val_accuracy: 0.50394 |  0:22:47s\n",
      "epoch 72 | loss: 0.69007 | val_accuracy: 0.50913 |  0:23:05s\n",
      "epoch 73 | loss: 0.69016 | val_accuracy: 0.50375 |  0:23:23s\n",
      "epoch 74 | loss: 0.69033 | val_accuracy: 0.506   |  0:23:41s\n",
      "epoch 75 | loss: 0.69005 | val_accuracy: 0.50606 |  0:23:59s\n",
      "epoch 76 | loss: 0.6899  | val_accuracy: 0.50331 |  0:24:17s\n",
      "epoch 77 | loss: 0.68995 | val_accuracy: 0.50394 |  0:24:36s\n",
      "epoch 78 | loss: 0.68972 | val_accuracy: 0.50406 |  0:24:55s\n",
      "epoch 79 | loss: 0.68933 | val_accuracy: 0.50362 |  0:25:14s\n",
      "epoch 80 | loss: 0.68885 | val_accuracy: 0.50019 |  0:25:35s\n",
      "epoch 81 | loss: 0.68892 | val_accuracy: 0.50306 |  0:25:58s\n",
      "epoch 82 | loss: 0.68844 | val_accuracy: 0.50106 |  0:26:16s\n",
      "epoch 83 | loss: 0.68767 | val_accuracy: 0.5035  |  0:26:34s\n",
      "epoch 84 | loss: 0.68714 | val_accuracy: 0.49619 |  0:26:53s\n",
      "epoch 85 | loss: 0.68661 | val_accuracy: 0.50381 |  0:27:12s\n",
      "epoch 86 | loss: 0.68665 | val_accuracy: 0.50444 |  0:27:31s\n",
      "epoch 87 | loss: 0.68678 | val_accuracy: 0.50031 |  0:27:49s\n",
      "epoch 88 | loss: 0.68644 | val_accuracy: 0.50187 |  0:28:08s\n",
      "epoch 89 | loss: 0.68575 | val_accuracy: 0.50062 |  0:28:26s\n",
      "\n",
      "Early stopping occurred at epoch 89 with best_epoch = 39 and best_val_accuracy = 0.50981\n"
     ]
    },
    {
     "name": "stderr",
     "output_type": "stream",
     "text": [
      "C:\\Users\\I Putu Nanda Aditya\\AppData\\Local\\Programs\\Python\\Python311\\Lib\\site-packages\\pytorch_tabnet\\callbacks.py:172: UserWarning: Best weights from best epoch are automatically used!\n",
      "  warnings.warn(wrn_msg)\n"
     ]
    }
   ],
   "source": [
    "clf = TabNetClassifier(\n",
    "    n_d=16, n_a=16, n_steps=5,\n",
    "    gamma=1.5, n_independent=2, n_shared=2,\n",
    "    optimizer_fn=torch.optim.Adam,\n",
    "    optimizer_params=dict(lr=1e-2),  # lebih kecil dr sebelumnya\n",
    "    mask_type='entmax',\n",
    "    scheduler_params={\"step_size\":10, \"gamma\":0.9},\n",
    "    scheduler_fn=torch.optim.lr_scheduler.StepLR,\n",
    "    verbose=1\n",
    ")\n",
    "\n",
    "clf.fit(\n",
    "    X_tr, y_tr,\n",
    "    eval_set=[(X_val, y_val)],\n",
    "    eval_name=['val'],\n",
    "    eval_metric=['accuracy'],\n",
    "    max_epochs=300,      # naikkan dari 100 ke 300\n",
    "    patience=50,         # naikkan dari 10 ke 50\n",
    "    batch_size=1024,\n",
    "    virtual_batch_size=128,\n",
    "    num_workers=0,\n",
    "    drop_last=False\n",
    ")\n"
   ]
  },
  {
   "cell_type": "code",
   "execution_count": 65,
   "id": "bfea259c-99e5-48ed-80a9-c3c96e8922fe",
   "metadata": {},
   "outputs": [
    {
     "name": "stdout",
     "output_type": "stream",
     "text": [
      "\n",
      "✅ Accuracy: 0.5098125\n",
      "              precision    recall  f1-score   support\n",
      "\n",
      "           0       0.51      0.63      0.56      8036\n",
      "           1       0.51      0.39      0.44      7964\n",
      "\n",
      "    accuracy                           0.51     16000\n",
      "   macro avg       0.51      0.51      0.50     16000\n",
      "weighted avg       0.51      0.51      0.50     16000\n",
      "\n"
     ]
    }
   ],
   "source": [
    "# Predict dan evaluasi\n",
    "y_pred = clf.predict(X_val)\n",
    "print(\"\\n✅ Accuracy:\", accuracy_score(y_val, y_pred))\n",
    "print(classification_report(y_val, y_pred))\n"
   ]
  },
  {
   "cell_type": "code",
   "execution_count": 69,
   "id": "6e9bd204-e2c8-497e-8053-8d777260400d",
   "metadata": {},
   "outputs": [
    {
     "name": "stdout",
     "output_type": "stream",
     "text": [
      "Requirement already satisfied: catboost in c:\\users\\i putu nanda aditya\\appdata\\local\\programs\\python\\python311\\lib\\site-packages (1.2.8)\n",
      "Requirement already satisfied: graphviz in c:\\users\\i putu nanda aditya\\appdata\\local\\programs\\python\\python311\\lib\\site-packages (from catboost) (0.21)\n",
      "Requirement already satisfied: matplotlib in c:\\users\\i putu nanda aditya\\appdata\\local\\programs\\python\\python311\\lib\\site-packages (from catboost) (3.10.0)\n",
      "Requirement already satisfied: numpy<3.0,>=1.16.0 in c:\\users\\i putu nanda aditya\\appdata\\local\\programs\\python\\python311\\lib\\site-packages (from catboost) (1.26.4)\n",
      "Requirement already satisfied: pandas>=0.24 in c:\\users\\i putu nanda aditya\\appdata\\local\\programs\\python\\python311\\lib\\site-packages (from catboost) (2.2.3)\n",
      "Requirement already satisfied: scipy in c:\\users\\i putu nanda aditya\\appdata\\local\\programs\\python\\python311\\lib\\site-packages (from catboost) (1.13.1)\n",
      "Requirement already satisfied: plotly in c:\\users\\i putu nanda aditya\\appdata\\local\\programs\\python\\python311\\lib\\site-packages (from catboost) (6.2.0)\n",
      "Requirement already satisfied: six in c:\\users\\i putu nanda aditya\\appdata\\local\\programs\\python\\python311\\lib\\site-packages (from catboost) (1.17.0)\n",
      "Requirement already satisfied: python-dateutil>=2.8.2 in c:\\users\\i putu nanda aditya\\appdata\\local\\programs\\python\\python311\\lib\\site-packages (from pandas>=0.24->catboost) (2.9.0.post0)\n",
      "Requirement already satisfied: pytz>=2020.1 in c:\\users\\i putu nanda aditya\\appdata\\local\\programs\\python\\python311\\lib\\site-packages (from pandas>=0.24->catboost) (2025.1)\n",
      "Requirement already satisfied: tzdata>=2022.7 in c:\\users\\i putu nanda aditya\\appdata\\local\\programs\\python\\python311\\lib\\site-packages (from pandas>=0.24->catboost) (2024.2)\n",
      "Requirement already satisfied: contourpy>=1.0.1 in c:\\users\\i putu nanda aditya\\appdata\\local\\programs\\python\\python311\\lib\\site-packages (from matplotlib->catboost) (1.3.1)\n",
      "Requirement already satisfied: cycler>=0.10 in c:\\users\\i putu nanda aditya\\appdata\\local\\programs\\python\\python311\\lib\\site-packages (from matplotlib->catboost) (0.12.1)\n",
      "Requirement already satisfied: fonttools>=4.22.0 in c:\\users\\i putu nanda aditya\\appdata\\local\\programs\\python\\python311\\lib\\site-packages (from matplotlib->catboost) (4.55.3)\n",
      "Requirement already satisfied: kiwisolver>=1.3.1 in c:\\users\\i putu nanda aditya\\appdata\\local\\programs\\python\\python311\\lib\\site-packages (from matplotlib->catboost) (1.4.8)\n",
      "Requirement already satisfied: packaging>=20.0 in c:\\users\\i putu nanda aditya\\appdata\\local\\programs\\python\\python311\\lib\\site-packages (from matplotlib->catboost) (24.2)\n",
      "Requirement already satisfied: pillow>=8 in c:\\users\\i putu nanda aditya\\appdata\\local\\programs\\python\\python311\\lib\\site-packages (from matplotlib->catboost) (11.0.0)\n",
      "Requirement already satisfied: pyparsing>=2.3.1 in c:\\users\\i putu nanda aditya\\appdata\\local\\programs\\python\\python311\\lib\\site-packages (from matplotlib->catboost) (3.2.0)\n",
      "Requirement already satisfied: narwhals>=1.15.1 in c:\\users\\i putu nanda aditya\\appdata\\local\\programs\\python\\python311\\lib\\site-packages (from plotly->catboost) (1.15.2)\n",
      "Note: you may need to restart the kernel to use updated packages.\n"
     ]
    },
    {
     "name": "stderr",
     "output_type": "stream",
     "text": [
      "\n",
      "[notice] A new release of pip is available: 25.0.1 -> 25.1.1\n",
      "[notice] To update, run: C:\\Users\\I Putu Nanda Aditya\\AppData\\Local\\Programs\\Python\\Python311\\python.exe -m pip install --upgrade pip\n"
     ]
    }
   ],
   "source": [
    "pip install catboost"
   ]
  },
  {
   "cell_type": "code",
   "execution_count": 70,
   "id": "f8643fc8-d74b-4353-bb16-b74094a7a672",
   "metadata": {},
   "outputs": [],
   "source": [
    "from catboost import CatBoostClassifier"
   ]
  },
  {
   "cell_type": "code",
   "execution_count": 72,
   "id": "3306f156-0c7e-4d7c-a573-f67835f73eb2",
   "metadata": {},
   "outputs": [],
   "source": [
    "df[categorical_cols] = df[categorical_cols].astype('category')"
   ]
  },
  {
   "cell_type": "code",
   "execution_count": 78,
   "id": "5cdc74ac-1dca-451f-9898-21b70364e7f8",
   "metadata": {},
   "outputs": [
    {
     "name": "stdout",
     "output_type": "stream",
     "text": [
      "Categorical columns: ['Bike_Model', 'Store_Location', 'Payment_Method']\n"
     ]
    }
   ],
   "source": [
    "# Pakai fitur selain target\n",
    "X = df.drop(['Customer_Gender', 'Customer_Gender_encoded'], axis=1)\n",
    "\n",
    "# Target\n",
    "y = df['Customer_Gender_encoded']\n",
    "\n",
    "cat_cols = X.select_dtypes(include=['object', 'category']).columns.tolist()\n",
    "print(\"Categorical columns:\", cat_cols)\n"
   ]
  },
  {
   "cell_type": "code",
   "execution_count": 79,
   "id": "a065be8e-8d74-43df-a0fd-0f84c7b19b08",
   "metadata": {},
   "outputs": [],
   "source": [
    "X_train, X_val, y_train, y_val = train_test_split(\n",
    "    X, y, test_size=0.2, random_state=42, stratify=y\n",
    ")"
   ]
  },
  {
   "cell_type": "code",
   "execution_count": 80,
   "id": "4469215f-e076-46ce-bfa4-b0cf6d8c98b3",
   "metadata": {},
   "outputs": [
    {
     "name": "stdout",
     "output_type": "stream",
     "text": [
      "0:\tlearn: 0.5113875\ttest: 0.5007000\tbest: 0.5007000 (0)\ttotal: 401ms\tremaining: 3m 19s\n",
      "100:\tlearn: 0.5302500\ttest: 0.5048500\tbest: 0.5061500 (93)\ttotal: 14.7s\tremaining: 58.2s\n",
      "200:\tlearn: 0.5412500\ttest: 0.5058500\tbest: 0.5061500 (93)\ttotal: 29.1s\tremaining: 43.3s\n",
      "300:\tlearn: 0.5601000\ttest: 0.5057000\tbest: 0.5100500 (232)\ttotal: 45.5s\tremaining: 30.1s\n",
      "400:\tlearn: 0.5787125\ttest: 0.5035500\tbest: 0.5100500 (232)\ttotal: 1m 2s\tremaining: 15.5s\n",
      "499:\tlearn: 0.5905625\ttest: 0.5039500\tbest: 0.5100500 (232)\ttotal: 1m 19s\tremaining: 0us\n",
      "\n",
      "bestTest = 0.51005\n",
      "bestIteration = 232\n",
      "\n",
      "Shrink model to first 233 iterations.\n"
     ]
    },
    {
     "data": {
      "text/plain": [
       "<catboost.core.CatBoostClassifier at 0x1d60f7740d0>"
      ]
     },
     "execution_count": 80,
     "metadata": {},
     "output_type": "execute_result"
    }
   ],
   "source": [
    "clf_cat = CatBoostClassifier(\n",
    "    iterations=500,\n",
    "    depth=6,\n",
    "    learning_rate=0.05,\n",
    "    eval_metric='Accuracy',\n",
    "    cat_features=cat_cols,        # <- penting: info kolom kategorikal\n",
    "    verbose=100,\n",
    "    random_state=42\n",
    ")\n",
    "\n",
    "clf_cat.fit(\n",
    "    X_train, y_train,\n",
    "    eval_set=(X_val, y_val),\n",
    "    use_best_model=True\n",
    ")"
   ]
  },
  {
   "cell_type": "code",
   "execution_count": 81,
   "id": "d2b04cb5-f9f0-482f-a24a-4f99f65a2d86",
   "metadata": {},
   "outputs": [
    {
     "name": "stdout",
     "output_type": "stream",
     "text": [
      "\n",
      "✅ Accuracy: 0.51005\n",
      "              precision    recall  f1-score   support\n",
      "\n",
      "           0       0.51      0.62      0.56     10045\n",
      "           1       0.51      0.40      0.45      9955\n",
      "\n",
      "    accuracy                           0.51     20000\n",
      "   macro avg       0.51      0.51      0.50     20000\n",
      "weighted avg       0.51      0.51      0.50     20000\n",
      "\n"
     ]
    }
   ],
   "source": [
    "y_pred = clf_cat.predict(X_val)\n",
    "\n",
    "print(\"\\n✅ Accuracy:\", accuracy_score(y_val, y_pred))\n",
    "print(classification_report(y_val, y_pred))"
   ]
  }
 ],
 "metadata": {
  "kernelspec": {
   "display_name": "Python 3 (ipykernel)",
   "language": "python",
   "name": "python3"
  },
  "language_info": {
   "codemirror_mode": {
    "name": "ipython",
    "version": 3
   },
   "file_extension": ".py",
   "mimetype": "text/x-python",
   "name": "python",
   "nbconvert_exporter": "python",
   "pygments_lexer": "ipython3",
   "version": "3.11.8"
  }
 },
 "nbformat": 4,
 "nbformat_minor": 5
}
